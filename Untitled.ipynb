{
 "cells": [
  {
   "cell_type": "code",
   "execution_count": 141,
   "metadata": {
    "ExecuteTime": {
     "end_time": "2018-07-31T20:56:54.892194Z",
     "start_time": "2018-07-31T20:56:54.861Z"
    }
   },
   "outputs": [],
   "source": [
    "library(itecv) # should be loaded first\n",
    "library(zeallot)\n",
    "library(haven)\n",
    "library(tidyverse)\n",
    "library(magrittr)\n",
    "plotsize = function (x,y) options(repr.plot.width=x, repr.plot.height=y)"
   ]
  },
  {
   "cell_type": "code",
   "execution_count": 145,
   "metadata": {
    "ExecuteTime": {
     "end_time": "2018-07-31T21:11:43.946559Z",
     "start_time": "2018-07-31T21:11:43.926Z"
    }
   },
   "outputs": [],
   "source": [
    "analysis_dir = '~/Desktop/3a-Analysis_Data_Sets/'\n",
    "analysis_baseline_data_files = c( # only files that contain some baseline data about most patients\n",
    "    \"bloodpressure.sas7bdat\",\n",
    "    \"concomitantmeds.sas7bdat\",\n",
    "    \"ecg.sas7bdat\",\n",
    "    \"lipids.sas7bdat\",\n",
    "    \"otherlabs.sas7bdat\")\n",
    "followup_dir = '~/Desktop/4a-CRF_Data_Sets/'\n",
    "followup_baseline_data_files = c( # only files that contain some baseline data about most patients\n",
    "    \"f07_baselinehistoryphysicalexam.sas7bdat\",\n",
    "    \"f08_09_glycemiamanagement.sas7bdat\",\n",
    "    \"f19_healthutilitiesindex.sas7bdat\")"
   ]
  },
  {
   "cell_type": "code",
   "execution_count": 161,
   "metadata": {
    "ExecuteTime": {
     "end_time": "2018-07-31T21:25:34.905716Z",
     "start_time": "2018-07-31T21:25:31.031Z"
    }
   },
   "outputs": [
    {
     "name": "stderr",
     "output_type": "stream",
     "text": [
      "Warning message:\n",
      "“Column `MaskID` has different attributes on LHS and RHS of join”Warning message:\n",
      "“Column `MaskID` has different attributes on LHS and RHS of join”Warning message:\n",
      "“Column `MaskID` has different attributes on LHS and RHS of join”Warning message:\n",
      "“Column `MaskID` has different attributes on LHS and RHS of join”Warning message:\n",
      "“Column `MaskID` has different attributes on LHS and RHS of join”Warning message:\n",
      "“Column `MaskID` has different attributes on LHS and RHS of join”Warning message:\n",
      "“Column `MaskID` has different attributes on LHS and RHS of join”"
     ]
    }
   ],
   "source": [
    "other_baseline_covariates = \n",
    "    list(\n",
    "        list(followup_dir, analysis_dir),\n",
    "        list(followup_baseline_data_files, analysis_baseline_data_files)\n",
    "    ) %>%\n",
    "    pmap(~str_c(.x, .y)) %>% \n",
    "    unlist %>%\n",
    "    map(function(file) {\n",
    "        read_sas(file) %>%\n",
    "        filter(Visit == \"BLR\") %>% # remove all follow-up data from each data.frame\n",
    "        select(-Visit) # no longer need this column\n",
    "    }) %>%\n",
    "    reduce(full_join, by=\"MaskID\")\n",
    "key = read_sas(str_c(analysis_dir,\"accord_key.sas7bdat\")) %>% \n",
    "    mutate(gly_trt = ifelse(arm %in% c(3,4,7,8), T, F),\n",
    "           htn_trt = ifelse(arm %in% c(1,3), T, F),\n",
    "           fib_trt = ifelse(arm %in% c(5,7), T, F)) %>%\n",
    "    select(-arm, -treatment) # no longer need these\n",
    "outcomes = read_sas(str_c(analysis_dir,\"cvdoutcomes.sas7bdat\")) %>%\n",
    "    select(MaskID, censor_po, fuyrs_po) \n",
    "all_data = list(key, outcomes, other_baseline_covariates) %>%\n",
    "    reduce(full_join, by=\"MaskID\")"
   ]
  },
  {
   "cell_type": "code",
   "execution_count": 157,
   "metadata": {
    "ExecuteTime": {
     "end_time": "2018-07-31T21:22:55.309436Z",
     "start_time": "2018-07-31T21:22:55.294Z"
    }
   },
   "outputs": [],
   "source": [
    "setwd(\"~/Desktop/3a-Analysis_Data_Sets/\")"
   ]
  },
  {
   "cell_type": "code",
   "execution_count": 103,
   "metadata": {
    "ExecuteTime": {
     "end_time": "2018-07-31T20:17:23.826060Z",
     "start_time": "2018-07-31T20:17:23.801Z"
    }
   },
   "outputs": [],
   "source": [
    "check_keys = function(df) {\n",
    "    length(unique(df$MaskID)) == nrow(df)\n",
    "}"
   ]
  },
  {
   "cell_type": "code",
   "execution_count": 158,
   "metadata": {
    "ExecuteTime": {
     "end_time": "2018-07-31T21:22:56.339509Z",
     "start_time": "2018-07-31T21:22:56.157Z"
    }
   },
   "outputs": [
    {
     "data": {
      "text/html": [
       "<table>\n",
       "<thead><tr><th scope=col>arm</th><th scope=col>treatment</th></tr></thead>\n",
       "<tbody>\n",
       "\t<tr><td>1                               </td><td>Standard Gylcemia/Intensive BP  </td></tr>\n",
       "\t<tr><td>2                               </td><td>Standard Gylcemia/Standard BP   </td></tr>\n",
       "\t<tr><td>3                               </td><td>Intensive Gylcemia/Intensive BP </td></tr>\n",
       "\t<tr><td>4                               </td><td>Intensive Gylcemia/Standard BP  </td></tr>\n",
       "\t<tr><td>5                               </td><td>Standard Glycemia/Lipid Fibrate </td></tr>\n",
       "\t<tr><td>6                               </td><td>Standard Glycemia/Lipid Placebo </td></tr>\n",
       "\t<tr><td>7                               </td><td>Intensive Glycemia/Lipid Fibrate</td></tr>\n",
       "\t<tr><td>8                               </td><td>Intensive Glycemia/Lipid Placebo</td></tr>\n",
       "</tbody>\n",
       "</table>\n"
      ],
      "text/latex": [
       "\\begin{tabular}{r|ll}\n",
       " arm & treatment\\\\\n",
       "\\hline\n",
       "\t 1                                & Standard Gylcemia/Intensive BP  \\\\\n",
       "\t 2                                & Standard Gylcemia/Standard BP   \\\\\n",
       "\t 3                                & Intensive Gylcemia/Intensive BP \\\\\n",
       "\t 4                                & Intensive Gylcemia/Standard BP  \\\\\n",
       "\t 5                                & Standard Glycemia/Lipid Fibrate \\\\\n",
       "\t 6                                & Standard Glycemia/Lipid Placebo \\\\\n",
       "\t 7                                & Intensive Glycemia/Lipid Fibrate\\\\\n",
       "\t 8                                & Intensive Glycemia/Lipid Placebo\\\\\n",
       "\\end{tabular}\n"
      ],
      "text/markdown": [
       "\n",
       "arm | treatment | \n",
       "|---|---|---|---|---|---|---|---|\n",
       "| 1                                | Standard Gylcemia/Intensive BP   | \n",
       "| 2                                | Standard Gylcemia/Standard BP    | \n",
       "| 3                                | Intensive Gylcemia/Intensive BP  | \n",
       "| 4                                | Intensive Gylcemia/Standard BP   | \n",
       "| 5                                | Standard Glycemia/Lipid Fibrate  | \n",
       "| 6                                | Standard Glycemia/Lipid Placebo  | \n",
       "| 7                                | Intensive Glycemia/Lipid Fibrate | \n",
       "| 8                                | Intensive Glycemia/Lipid Placebo | \n",
       "\n",
       "\n"
      ],
      "text/plain": [
       "  arm treatment                       \n",
       "1 1   Standard Gylcemia/Intensive BP  \n",
       "2 2   Standard Gylcemia/Standard BP   \n",
       "3 3   Intensive Gylcemia/Intensive BP \n",
       "4 4   Intensive Gylcemia/Standard BP  \n",
       "5 5   Standard Glycemia/Lipid Fibrate \n",
       "6 6   Standard Glycemia/Lipid Placebo \n",
       "7 7   Intensive Glycemia/Lipid Fibrate\n",
       "8 8   Intensive Glycemia/Lipid Placebo"
      ]
     },
     "metadata": {},
     "output_type": "display_data"
    },
    {
     "name": "stdout",
     "output_type": "stream",
     "text": [
      "# A tibble: 10,251 x 8\n",
      "   MaskID female baseline_age trial_elig cvd_hx_baseline network raceclass\n",
      "    <dbl>  <dbl>        <dbl>      <dbl>           <dbl>   <dbl> <chr>    \n",
      " 1 100001      0         60.8          0               0       1 White    \n",
      " 2 100002      1         55            1               0       1 White    \n",
      " 3 100003      1         57.3          1               0       5 Black    \n",
      " 4 100004      1         72.5          0               0       1 White    \n",
      " 5 100005      0         47.1          1               1       4 White    \n",
      " 6 100006      1         56.7          0               0       1 White    \n",
      " 7 100007      0         60            0               1       4 White    \n",
      " 8 100008      0         55            1               0       1 White    \n",
      " 9 100009      0         69.9          0               1       1 White    \n",
      "10 100010      0         70.4          1               0       1 White    \n",
      "# ... with 10,241 more rows, and 1 more variable: gycemic_trt <lgl>\n"
     ]
    },
    {
     "data": {
      "text/html": [
       "TRUE"
      ],
      "text/latex": [
       "TRUE"
      ],
      "text/markdown": [
       "TRUE"
      ],
      "text/plain": [
       "[1] TRUE"
      ]
     },
     "metadata": {},
     "output_type": "display_data"
    }
   ],
   "source": [
    "read_sas(\"accord_key.sas7bdat\") %>% select(arm, treatment) %>% distinct %>% arrange(arm)\n",
    "key = read_sas(\"accord_key.sas7bdat\") %>% \n",
    "    mutate(gycemic_trt = ifelse(arm %in% c(3,4,7,8), T, F)) %>%\n",
    "    select(-arm, -treatment)\n",
    "key %>% as.tibble %>% print\n",
    "check_keys(key)"
   ]
  },
  {
   "cell_type": "code",
   "execution_count": 105,
   "metadata": {
    "ExecuteTime": {
     "end_time": "2018-07-31T20:17:30.004290Z",
     "start_time": "2018-07-31T20:17:29.752Z"
    }
   },
   "outputs": [
    {
     "name": "stdout",
     "output_type": "stream",
     "text": [
      "# A tibble: 10,205 x 4\n",
      "   MaskID   sbp   dbp    hr\n",
      "    <dbl> <dbl> <dbl> <dbl>\n",
      " 1 100001   127    77    80\n",
      " 2 100002   109    60    65\n",
      " 3 100003   143    78    94\n",
      " 4 100004   114    57    68\n",
      " 5 100005   148   103    82\n",
      " 6 100006   133    54    62\n",
      " 7 100007   125    75    58\n",
      " 8 100008   144    80    78\n",
      " 9 100009   133    68    90\n",
      "10 100010   129    68    73\n",
      "# ... with 10,195 more rows\n"
     ]
    },
    {
     "data": {
      "text/html": [
       "TRUE"
      ],
      "text/latex": [
       "TRUE"
      ],
      "text/markdown": [
       "TRUE"
      ],
      "text/plain": [
       "[1] TRUE"
      ]
     },
     "metadata": {},
     "output_type": "display_data"
    }
   ],
   "source": [
    "bp = read_sas(\"bloodpressure.sas7bdat\") %>%\n",
    "    filter(Visit == \"BLR\") %>% select(-Visit)\n",
    "bp %>% as.tibble %>% print\n",
    "check_keys(bp)"
   ]
  },
  {
   "cell_type": "code",
   "execution_count": 106,
   "metadata": {
    "ExecuteTime": {
     "end_time": "2018-07-31T20:17:37.039255Z",
     "start_time": "2018-07-31T20:17:35.905Z"
    }
   },
   "outputs": [
    {
     "name": "stdout",
     "output_type": "stream",
     "text": [
      "# A tibble: 10,251 x 55\n",
      "   MaskID  loop thiazide ksparing potassium  a2rb  acei dhp_ccb nondhp_ccb\n",
      "    <dbl> <dbl>    <dbl>    <dbl>     <dbl> <dbl> <dbl>   <dbl>      <dbl>\n",
      " 1 100001     0        0        0         0     0     1       0          0\n",
      " 2 100002     0        0        0         0     0     1       0          0\n",
      " 3 100003     1        0        0         0     0     1       0          1\n",
      " 4 100004     0        0        0         0     0     1       1          0\n",
      " 5 100005     0        0        0         0     1     0       0          0\n",
      " 6 100006     0        0        0         0     1     0       0          0\n",
      " 7 100007     0        0        0         0     0     0       0          0\n",
      " 8 100008     0        0        0         0     0     0       0          0\n",
      " 9 100009     0        0        0         0     0     1       0          0\n",
      "10 100010     0        0        0         0     1     0       0          0\n",
      "# ... with 10,241 more rows, and 46 more variables: alpha_blocker <dbl>,\n",
      "#   central_agent <dbl>, beta_blocker <dbl>, vasodilator <dbl>,\n",
      "#   reserpine <dbl>, other_bpmed <dbl>, digitalis <dbl>, antiarrhythmic <dbl>,\n",
      "#   nitrate <dbl>, other_cvmed <dbl>, sulfonylurea <dbl>, biguanide <dbl>,\n",
      "#   meglitinide <dbl>, ag_inhibitor <dbl>, nphl_insulin <dbl>, tzd <dbl>,\n",
      "#   reg_insulin <dbl>, la_insulin <dbl>, othbol_insulin <dbl>,\n",
      "#   premix_insulin <dbl>, other_diabmed <dbl>, bile_sequestrant <dbl>,\n",
      "#   statin <dbl>, fibrate <dbl>, other_lipidmed <dbl>, cholest_abi <dbl>,\n",
      "#   niacin <dbl>, anti_coag <dbl>, anti_inflam <dbl>, platelet_agi <dbl>,\n",
      "#   cox2 <dbl>, aspirin <dbl>, thyroid <dbl>, progestin <dbl>, estrogen <dbl>,\n",
      "#   oral_asthma <dbl>, anti_depress <dbl>, inhaled_asthma <dbl>,\n",
      "#   oral_steroid <dbl>, anti_psych <dbl>, osteoporosis <dbl>,\n",
      "#   fluid_retention <dbl>, other_med <dbl>, vitamin <dbl>, otc <dbl>,\n",
      "#   herbal <dbl>\n"
     ]
    },
    {
     "data": {
      "text/html": [
       "TRUE"
      ],
      "text/latex": [
       "TRUE"
      ],
      "text/markdown": [
       "TRUE"
      ],
      "text/plain": [
       "[1] TRUE"
      ]
     },
     "metadata": {},
     "output_type": "display_data"
    }
   ],
   "source": [
    "meds = read_sas(\"concomitantmeds.sas7bdat\") %>%\n",
    "    filter(Visit == \"BLR\") %>% select(-Visit)\n",
    "meds %>% as.tibble %>% print\n",
    "check_keys(meds)"
   ]
  },
  {
   "cell_type": "code",
   "execution_count": 107,
   "metadata": {
    "ExecuteTime": {
     "end_time": "2018-07-31T20:17:47.699523Z",
     "start_time": "2018-07-31T20:17:46.624Z"
    }
   },
   "outputs": [
    {
     "name": "stdout",
     "output_type": "stream",
     "text": [
      "# A tibble: 10,206 x 38\n",
      "   MaskID mc_1   mc_2   mc_3   mc_l4  mc_f4 mc_v4 mc_l5 mc_f5 mc_v5 mc_6  mc_7 \n",
      "    <dbl> <chr>  <chr>  <chr>  <chr>  <chr> <chr> <chr> <chr> <chr> <chr> <chr>\n",
      " 1 100001 Suppr… Suppr… Suppr… Suppr… Supp… Supp… Supp… Supp… Supp… 6.0   Supp…\n",
      " 2 100002 1.1.0  2.0    3.0    4.0    4.0   4.0   5.0   5.0   5.0   6.0   7.5  \n",
      " 3 100003 1.1.0  2.0    Any 3… 4.0    4.0   4.0   5.4   5.0   5.0   6.0   7.0  \n",
      " 4 100004 1.1.0  2.1    3.0    4.2    4.0   4.2   Any … 5.0   5.0   6.0   7.5  \n",
      " 5 100005 1.1.0  2.0    3.0    4.0    4.0   4.0   5.0   5.0   5.0   6.0   7.0  \n",
      " 6 100006 1.1.0  2.0    3.0    4.0    4.0   4.0   5.0   5.0   5.0   6.0   7.0  \n",
      " 7 100007 Any 1… 2.0    3.0    4.0    4.0   4.0   5.0   5.0   5.0   6.0   7.0  \n",
      " 8 100008 1.1.0  2.0    3.0    4.0    4.0   4.0   5.0   5.0   5.0   6.0   7.0  \n",
      " 9 100009 1.1.0  2.0    3.0    Any 4… 4.0   4.0   5.0   5.0   5.0   6.0   7.0  \n",
      "10 100010 1.1.0  2.0    Any 3… 4.0    4.0   4.0   5.3   5.0   5.0   6.0   7.6  \n",
      "# ... with 10,196 more rows, and 26 more variables: mcr_81 <chr>, mcr_83 <chr>,\n",
      "#   mcr_8x <chr>, mc_l92 <chr>, mc_f92 <chr>, mc_v92 <chr>, mc_91 <chr>,\n",
      "#   mc_94 <chr>, mc_95 <chr>, heart_rt <dbl>, pr_dur <dbl>, p_axis <dbl>,\n",
      "#   qrs_axis <dbl>, t_axis <dbl>, qrs_dur <dbl>, qt_dur <dbl>, qtc_dur <dbl>,\n",
      "#   ramp_avl <dbl>, samp_v3 <dbl>, QTI <dbl>, JTI <dbl>, quality <chr>,\n",
      "#   sdnn <dbl>, rmsd <dbl>, CV <dbl>, CP <dbl>\n"
     ]
    },
    {
     "data": {
      "text/html": [
       "TRUE"
      ],
      "text/latex": [
       "TRUE"
      ],
      "text/markdown": [
       "TRUE"
      ],
      "text/plain": [
       "[1] TRUE"
      ]
     },
     "metadata": {},
     "output_type": "display_data"
    }
   ],
   "source": [
    "ecg = read_sas(\"ecg.sas7bdat\") %>%\n",
    "    filter(Visit == \"BLR\") %>% select(-Visit)\n",
    "ecg %>% as.tibble %>% print\n",
    "check_keys(ecg)"
   ]
  },
  {
   "cell_type": "code",
   "execution_count": 108,
   "metadata": {
    "ExecuteTime": {
     "end_time": "2018-07-31T20:18:03.645577Z",
     "start_time": "2018-07-31T20:18:03.442Z"
    }
   },
   "outputs": [
    {
     "name": "stdout",
     "output_type": "stream",
     "text": [
      "# A tibble: 10,229 x 2\n",
      "   MaskID hba1c\n",
      "    <dbl> <dbl>\n",
      " 1 100001   8.7\n",
      " 2 100002   8.2\n",
      " 3 100003   7.9\n",
      " 4 100004   9.2\n",
      " 5 100005  11.6\n",
      " 6 100006   8.7\n",
      " 7 100007   7.6\n",
      " 8 100008   9.1\n",
      " 9 100009   7.9\n",
      "10 100010   8.3\n",
      "# ... with 10,219 more rows\n"
     ]
    },
    {
     "data": {
      "text/html": [
       "TRUE"
      ],
      "text/latex": [
       "TRUE"
      ],
      "text/markdown": [
       "TRUE"
      ],
      "text/plain": [
       "[1] TRUE"
      ]
     },
     "metadata": {},
     "output_type": "display_data"
    }
   ],
   "source": [
    "hba1c = read_sas(\"hba1c.sas7bdat\") %>%\n",
    "    filter(Visit == \"BLR\") %>% select(-Visit)\n",
    "hba1c %>% as.tibble %>% print\n",
    "check_keys(hba1c)"
   ]
  },
  {
   "cell_type": "code",
   "execution_count": 109,
   "metadata": {
    "ExecuteTime": {
     "end_time": "2018-07-31T20:18:03.645577Z",
     "start_time": "2018-07-31T20:18:03.442Z"
    }
   },
   "outputs": [
    {
     "name": "stdout",
     "output_type": "stream",
     "text": [
      "# A tibble: 10,197 x 6\n",
      "   MaskID  chol  trig  vldl   ldl   hdl\n",
      "    <dbl> <dbl> <dbl> <dbl> <dbl> <dbl>\n",
      " 1 100001   189    92    18   120    51\n",
      " 2 100002   188   161    32   109    47\n",
      " 3 100003   270   121    24   205    41\n",
      " 4 100004   205   108    22   145    38\n",
      " 5 100005   122   170    34    52    36\n",
      " 6 100006   340   313    63   236    41\n",
      " 7 100007   160    89    18    97    45\n",
      " 8 100008   167   273    55    76    36\n",
      " 9 100009   175   124    25   104    46\n",
      "10 100010   121    79    16    68    37\n",
      "# ... with 10,187 more rows\n"
     ]
    },
    {
     "data": {
      "text/html": [
       "TRUE"
      ],
      "text/latex": [
       "TRUE"
      ],
      "text/markdown": [
       "TRUE"
      ],
      "text/plain": [
       "[1] TRUE"
      ]
     },
     "metadata": {},
     "output_type": "display_data"
    }
   ],
   "source": [
    "lipids = read_sas(\"lipids.sas7bdat\") %>%\n",
    "    filter(Visit == \"BLR\") %>% select(-Visit)\n",
    "lipids %>% as.tibble %>% print\n",
    "check_keys(lipids)"
   ]
  },
  {
   "cell_type": "code",
   "execution_count": 110,
   "metadata": {
    "ExecuteTime": {
     "end_time": "2018-07-31T20:18:09.227293Z",
     "start_time": "2018-07-31T20:18:08.842Z"
    },
    "scrolled": true
   },
   "outputs": [
    {
     "name": "stdout",
     "output_type": "stream",
     "text": [
      "# A tibble: 10,240 x 10\n",
      "   MaskID   fpg   alt   cpk potassium screat   gfr  ualb ucreat  uacr\n",
      "    <dbl> <dbl> <dbl> <dbl>     <dbl>  <dbl> <dbl> <dbl>  <dbl> <dbl>\n",
      " 1 100001    96    18   110      4.84    1.7  53.7  2.37  107.     22\n",
      " 2 100002   109    19   168      4       0.7  92.3  1.54   91.5    17\n",
      " 3 100003   130    17   146      3.93    0.8  95    4.11  109.     38\n",
      " 4 100004   239    12   113      7.59    0.8 122.   2.31  161.     14\n",
      " 5 100005   341    24    92      5.07    0.9  98.5  8.81  101.     87\n",
      " 6 100006   229    22   158      4.31    0.7  91.8  1.41  105.     13\n",
      " 7 100007   151    29    99      4.64    0.8 105.   0.46  103.      4\n",
      " 8 100008   238    32   663      4.12    0.8 107.   2.63   99.5    26\n",
      " 9 100009   133    20    94      4.62    1.2  85.9  0.3    84.3     4\n",
      "10 100010   149    31    81      4.09    0.7 118.   1.67   82.3    20\n",
      "# ... with 10,230 more rows\n"
     ]
    },
    {
     "data": {
      "text/html": [
       "TRUE"
      ],
      "text/latex": [
       "TRUE"
      ],
      "text/markdown": [
       "TRUE"
      ],
      "text/plain": [
       "[1] TRUE"
      ]
     },
     "metadata": {},
     "output_type": "display_data"
    }
   ],
   "source": [
    "labs = read_sas(\"otherlabs.sas7bdat\") %>%\n",
    "    filter(Visit == \"BLR\") %>% select(-Visit)\n",
    "labs %>% as.tibble %>% print\n",
    "check_keys(labs)"
   ]
  },
  {
   "cell_type": "code",
   "execution_count": 111,
   "metadata": {
    "ExecuteTime": {
     "end_time": "2018-07-31T20:18:14.014399Z",
     "start_time": "2018-07-31T20:18:13.986Z"
    }
   },
   "outputs": [],
   "source": [
    "setwd(\"~/Desktop/4a-CRF_Data_Sets/\")"
   ]
  },
  {
   "cell_type": "code",
   "execution_count": 112,
   "metadata": {
    "ExecuteTime": {
     "end_time": "2018-07-31T20:18:20.676698Z",
     "start_time": "2018-07-31T20:18:20.365Z"
    },
    "scrolled": false
   },
   "outputs": [
    {
     "name": "stdout",
     "output_type": "stream",
     "text": [
      "# A tibble: 10,251 x 60\n",
      "   MaskID livealon   edu yrsdiab yrslipi yrstens ulcer protein hartfail\n",
      "    <dbl>    <dbl> <dbl>   <dbl>   <dbl>   <dbl> <dbl>   <dbl>    <dbl>\n",
      " 1 100001        1     4      26       6       6     2       1        2\n",
      " 2 100002        1     1      14       5       5     2       1        2\n",
      " 3 100003        1     3       1      NA      NA     2       2        2\n",
      " 4 100004        2     4       9       5      26     2       2        2\n",
      " 5 100005        1     3       6      NA      26     2       2        2\n",
      " 6 100006        1     2       5       5       5     2       1        2\n",
      " 7 100007        1     3      11       1      NA     2       2        2\n",
      " 8 100008        1     4       6       2      NA     2       2        2\n",
      " 9 100009        1     4      15       6       3     2       2        2\n",
      "10 100010        2     4      22       9      12     2       2        2\n",
      "# ... with 10,241 more rows, and 51 more variables: neuropat <dbl>,\n",
      "#   depressn <dbl>, eyedisea <dbl>, histhart <dbl>, cigarett <dbl>,\n",
      "#   smokelif <dbl>, quityrs <dbl>, alcohol <dbl>, ins_cover <dbl>,\n",
      "#   dk_unins <dbl>, drugbene <dbl>, wt_kg <dbl>, ht_cm <dbl>, waist_cm <dbl>,\n",
      "#   scrright <dbl>, scrleft <dbl>, eyesurg <dbl>, recat_yag <dbl>,\n",
      "#   reret_vit <dbl>, reothr <dbl>, lecat_yag <dbl>, leret_vit <dbl>,\n",
      "#   leothr <dbl>, retpathy <dbl>, lrtpathy <dbl>, rrtpathy <dbl>,\n",
      "#   visloss <dbl>, le_vloss <dbl>, re_vloss <dbl>, hfrswell <dbl>,\n",
      "#   hfrswech <dbl>, hfrshort <dbl>, hfrshoch <dbl>, hfrurine <dbl>,\n",
      "#   hfrurich <dbl>, rptdesc <chr>, lptdesc <chr>, chest_exam <dbl>,\n",
      "#   famphis <dbl>, fappear <dbl>, fdeform <dbl>, finfect <dbl>, fdryski <dbl>,\n",
      "#   ffissur <dbl>, fother <dbl>, fulcer <dbl>, fankle <dbl>, fvibrat <dbl>,\n",
      "#   ffilam <dbl>, MNSIscor <dbl>, feeling <dbl>\n"
     ]
    },
    {
     "data": {
      "text/html": [
       "TRUE"
      ],
      "text/latex": [
       "TRUE"
      ],
      "text/markdown": [
       "TRUE"
      ],
      "text/plain": [
       "[1] TRUE"
      ]
     },
     "metadata": {},
     "output_type": "display_data"
    }
   ],
   "source": [
    "history = read_sas(\"f07_baselinehistoryphysicalexam.sas7bdat\") %>%\n",
    "    filter(Visit == \"BLR\") %>% select(-Visit)\n",
    "history %>% as.tibble %>% print\n",
    "check_keys(history)"
   ]
  },
  {
   "cell_type": "code",
   "execution_count": 113,
   "metadata": {
    "ExecuteTime": {
     "end_time": "2018-07-31T20:18:38.045778Z",
     "start_time": "2018-07-31T20:18:37.871Z"
    },
    "scrolled": false
   },
   "outputs": [
    {
     "name": "stdout",
     "output_type": "stream",
     "text": [
      "# A tibble: 10,246 x 53\n",
      "   MaskID g1contct g1nutrit g1diabed g1check g17days g1_report g1othper g1warn\n",
      "    <dbl>    <dbl>    <dbl>    <dbl>   <dbl>   <dbl>     <dbl>    <dbl>  <dbl>\n",
      " 1 100001        2       NA       NA      14       0        NA        0      3\n",
      " 2 100002        2       NA       NA      14       0        NA        0      3\n",
      " 3 100003        2       30       20      14       0        NA        0      3\n",
      " 4 100004        2       NA       NA      14       0        NA        0      3\n",
      " 5 100005        2       10       20      13       0        NA        0      3\n",
      " 6 100006        2       60       30      14       0        NA        0      3\n",
      " 7 100007        2       10       30      18       1        NA        0      3\n",
      " 8 100008        2       NA       70       7       0        NA        0      3\n",
      " 9 100009        2       NA       NA      14       0        NA        0      3\n",
      "10 100010        2       60       60      10       0        NA        0      3\n",
      "# ... with 10,236 more rows, and 44 more variables: g1asleep <dbl>,\n",
      "#   g1mhypo <dbl>, g2anyins <dbl>, g3phone <dbl>, g2prscbin <dbl>,\n",
      "#   g2hwofsa <dbl>, g2hwofch <dbl>, g2hwofip <dbl>, g2hwofba <dbl>,\n",
      "#   g2hwofbo <dbl>, g2avenph <dbl>, g2aveinp <dbl>, g2avelev <dbl>,\n",
      "#   g2avenob <dbl>, g2avegla <dbl>, g2aveba <dbl>, g2avereg <dbl>,\n",
      "#   g2aveasp <dbl>, g2avenbo <dbl>, g2aveotb <dbl>, g2avebol <dbl>,\n",
      "#   g2avepre <dbl>, g2avenpre <dbl>, g2aveoth <dbl>, g2avepba <dbl>,\n",
      "#   g2avetid <dbl>, g2nochin <dbl>, g2avxnin <dbl>, g2avxnph <dbl>,\n",
      "#   g2avxinp <dbl>, g2avxlev <dbl>, g2avxnob <dbl>, g2avxgla <dbl>,\n",
      "#   g2avxba <dbl>, g2avxreg <dbl>, g2avxasp <dbl>, g2avxnbo <dbl>,\n",
      "#   g2avxotb <dbl>, g2avxbol <dbl>, g2avxpre <dbl>, g2avxnpre <dbl>,\n",
      "#   g2avxoth <dbl>, g2avxpba <dbl>, g2avxtid <dbl>\n"
     ]
    },
    {
     "data": {
      "text/html": [
       "TRUE"
      ],
      "text/latex": [
       "TRUE"
      ],
      "text/markdown": [
       "TRUE"
      ],
      "text/plain": [
       "[1] TRUE"
      ]
     },
     "metadata": {},
     "output_type": "display_data"
    }
   ],
   "source": [
    "glyc = read_sas(\"f08_09_glycemiamanagement.sas7bdat\") %>%\n",
    "    filter(Visit == \"BLR\") %>% select(-Visit)\n",
    "glyc %>% as.tibble %>% print\n",
    "check_keys(glyc)"
   ]
  },
  {
   "cell_type": "code",
   "execution_count": 114,
   "metadata": {
    "ExecuteTime": {
     "end_time": "2018-07-31T20:18:38.045778Z",
     "start_time": "2018-07-31T20:18:37.871Z"
    },
    "scrolled": true
   },
   "outputs": [
    {
     "name": "stdout",
     "output_type": "stream",
     "text": [
      "# A tibble: 10,186 x 3\n",
      "   MaskID HUI3Scor HUI2pf\n",
      "    <dbl>    <dbl>  <dbl>\n",
      " 1 100001    0.612  0.798\n",
      " 2 100002    0.854  0.850\n",
      " 3 100003    0.720  0.918\n",
      " 4 100004    0.683  0.763\n",
      " 5 100005    0.854  0.850\n",
      " 6 100006    0.116  0.243\n",
      " 7 100007    0.793  0.805\n",
      " 8 100008    0.919  0.918\n",
      " 9 100009    0.973  0.947\n",
      "10 100010    0.838  0.918\n",
      "# ... with 10,176 more rows\n"
     ]
    },
    {
     "data": {
      "text/html": [
       "TRUE"
      ],
      "text/latex": [
       "TRUE"
      ],
      "text/markdown": [
       "TRUE"
      ],
      "text/plain": [
       "[1] TRUE"
      ]
     },
     "metadata": {},
     "output_type": "display_data"
    }
   ],
   "source": [
    "hui = read_sas(\"f19_healthutilitiesindex.sas7bdat\") %>%\n",
    "    filter(Visit == \"BLR\") %>% select(-Visit)\n",
    "hui %>% as.tibble %>% print\n",
    "check_keys(hui)"
   ]
  },
  {
   "cell_type": "markdown",
   "metadata": {},
   "source": [
    "# Outcomes"
   ]
  },
  {
   "cell_type": "code",
   "execution_count": 115,
   "metadata": {
    "ExecuteTime": {
     "end_time": "2018-07-31T20:18:49.298288Z",
     "start_time": "2018-07-31T20:18:49.144Z"
    }
   },
   "outputs": [
    {
     "name": "stdout",
     "output_type": "stream",
     "text": [
      "# A tibble: 10,251 x 3\n",
      "   MaskID censor_po fuyrs_po\n",
      "    <dbl>     <dbl>    <dbl>\n",
      " 1 100001         1     7   \n",
      " 2 100002         1     7   \n",
      " 3 100003         1     2.00\n",
      " 4 100004         1     7   \n",
      " 5 100005         1     4.92\n",
      " 6 100006         1     4.51\n",
      " 7 100007         1     5.69\n",
      " 8 100008         1     4.96\n",
      " 9 100009         1     7   \n",
      "10 100010         1     4.98\n",
      "# ... with 10,241 more rows\n"
     ]
    },
    {
     "data": {
      "text/html": [
       "TRUE"
      ],
      "text/latex": [
       "TRUE"
      ],
      "text/markdown": [
       "TRUE"
      ],
      "text/plain": [
       "[1] TRUE"
      ]
     },
     "metadata": {},
     "output_type": "display_data"
    }
   ],
   "source": [
    "setwd(\"~/Desktop/3a-Analysis_Data_Sets/\")\n",
    "outcomes = read_sas(\"cvdoutcomes.sas7bdat\") %>%\n",
    "    select(MaskID, censor_po, fuyrs_po) \n",
    "outcomes %>% as.tibble %>% print\n",
    "check_keys(outcomes)"
   ]
  },
  {
   "cell_type": "code",
   "execution_count": 123,
   "metadata": {
    "ExecuteTime": {
     "end_time": "2018-07-31T20:45:30.849178Z",
     "start_time": "2018-07-31T20:45:30.603Z"
    }
   },
   "outputs": [
    {
     "name": "stderr",
     "output_type": "stream",
     "text": [
      "Warning message:\n",
      "“Column `MaskID` has different attributes on LHS and RHS of join”Warning message:\n",
      "“Column `MaskID` has different attributes on LHS and RHS of join”Warning message:\n",
      "“Column `MaskID` has different attributes on LHS and RHS of join”Warning message:\n",
      "“Column `MaskID` has different attributes on LHS and RHS of join”"
     ]
    }
   ],
   "source": [
    "data =list(bp, ecg, glyc, hba1c, history, hui, key, labs, lipids, meds, outcomes) %>%\n",
    "    reduce(full_join, by=\"MaskID\")"
   ]
  },
  {
   "cell_type": "code",
   "execution_count": 143,
   "metadata": {
    "ExecuteTime": {
     "end_time": "2018-07-31T21:00:01.406620Z",
     "start_time": "2018-07-31T21:00:01.041Z"
    }
   },
   "outputs": [
    {
     "data": {
      "text/html": [
       "<table>\n",
       "<thead><tr><th scope=col>censor_po</th><th scope=col>ct</th></tr></thead>\n",
       "<tbody>\n",
       "\t<tr><td>0   </td><td>1046</td></tr>\n",
       "\t<tr><td>1   </td><td>9205</td></tr>\n",
       "</tbody>\n",
       "</table>\n"
      ],
      "text/latex": [
       "\\begin{tabular}{r|ll}\n",
       " censor\\_po & ct\\\\\n",
       "\\hline\n",
       "\t 0    & 1046\\\\\n",
       "\t 1    & 9205\\\\\n",
       "\\end{tabular}\n"
      ],
      "text/markdown": [
       "\n",
       "censor_po | ct | \n",
       "|---|---|\n",
       "| 0    | 1046 | \n",
       "| 1    | 9205 | \n",
       "\n",
       "\n"
      ],
      "text/plain": [
       "  censor_po ct  \n",
       "1 0         1046\n",
       "2 1         9205"
      ]
     },
     "metadata": {},
     "output_type": "display_data"
    },
    {
     "data": {},
     "metadata": {},
     "output_type": "display_data"
    },
    {
     "data": {
      "image/png": "[encoded data removed]",
      "text/plain": [
       "plot without title"
      ]
     },
     "metadata": {},
     "output_type": "display_data"
    }
   ],
   "source": [
    "data %>% group_by(censor_po) %>% summarize(ct = n())\n",
    "data %>% ggplot(aes(x=fuyrs_po, fill=as.factor(censor_po))) + geom_density(alpha=0.5)"
   ]
  },
  {
   "cell_type": "markdown",
   "metadata": {},
   "source": [
    " - subset to events\n",
    " - set up training/test split\n",
    " - get rid of any missing covariate values\n",
    " - turn covariates into matrix"
   ]
  },
  {
   "cell_type": "markdown",
   "metadata": {},
   "source": [
    "# Analysis"
   ]
  },
  {
   "cell_type": "code",
   "execution_count": null,
   "metadata": {},
   "outputs": [],
   "source": [
    "model_specs = list(\n",
    "    gbm = list(\n",
    "        tune_grid = expand.grid(\n",
    "            n.trees = seq(1,501,40), \n",
    "            interaction.depth=3, \n",
    "            shrinkage = 0.1, \n",
    "            n.minobsinnode=3),\n",
    "        extra_args = list(\n",
    "            verbose=F, \n",
    "            bag.fraction=0.5)),\n",
    "    glmnet = list(\n",
    "        tune_grid = expand.grid(\n",
    "            alpha=c(0,0.5,1),\n",
    "            lambda=exp(seq(-5,2,0.4))),\n",
    "        extra_args = list()))\n",
    "\n",
    "metrics = list(\n",
    "    mse = bundle_mse,\n",
    "    wmse = bundle_wmse,\n",
    "    dr_mse = bundle_dr_mse,\n",
    "    r_objective = bundle_r_objective,\n",
    "    match_mse = bundle_match_mse,\n",
    "    trans_mse = bundle_trans_mse,\n",
    "#     match_mdc = bundle_match_mdc,\n",
    "#     trans_mdc = bundle_trans_mdc,\n",
    "    ip_value = bundle_ip_value,\n",
    "    dml_value = bundle_dml_value,\n",
    "#     gain = bundle_gain,\n",
    "#     c_benefit = bundle_c_benefit,\n",
    "#     qini = bundle_qini,\n",
    "    random = bundle_random)"
   ]
  },
  {
   "cell_type": "code",
   "execution_count": null,
   "metadata": {},
   "outputs": [],
   "source": [
    "estimates = estimate_val_test(data, itrain, model_specs)\n",
    "val_bundle = learn_validation_auxiliaries(data, ival, model_specs, randomized=DGP$randomized)\n",
    "val_metrics = estimate_val_metrics(estimates, val_bundle, metrics, ival)"
   ]
  }
 ],
 "metadata": {
  "kernelspec": {
   "display_name": "R",
   "language": "R",
   "name": "ir"
  },
  "language_info": {
   "codemirror_mode": "r",
   "file_extension": ".r",
   "mimetype": "text/x-r-source",
   "name": "R",
   "pygments_lexer": "r",
   "version": "3.5.0"
  }
 },
 "nbformat": 4,
 "nbformat_minor": 2
}
