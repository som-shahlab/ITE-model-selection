{
 "cells": [
  {
   "cell_type": "code",
   "execution_count": 1,
   "metadata": {
    "ExecuteTime": {
     "end_time": "2018-05-07T21:43:47.875033Z",
     "start_time": "2018-05-07T21:43:42.268Z"
    },
    "collapsed": true
   },
   "outputs": [
    {
     "name": "stderr",
     "output_type": "stream",
     "text": [
      "Warning message:\n",
      ": replacing previous import by ‘plyr::ddply’ when loading ‘caret’Warning message:\n",
      ": replacing previous import by ‘tidyr::%>%’ when loading ‘broom’Warning message:\n",
      ": replacing previous import by ‘tidyr::gather’ when loading ‘broom’Warning message:\n",
      ": replacing previous import by ‘tidyr::spread’ when loading ‘broom’Warning message:\n",
      ": replacing previous import by ‘rlang::!!’ when loading ‘recipes’Warning message:\n",
      ": replacing previous import by ‘rlang::expr’ when loading ‘recipes’Warning message:\n",
      ": replacing previous import by ‘rlang::f_lhs’ when loading ‘recipes’Warning message:\n",
      ": replacing previous import by ‘rlang::f_rhs’ when loading ‘recipes’Warning message:\n",
      ": replacing previous import by ‘rlang::is_empty’ when loading ‘recipes’Warning message:\n",
      ": replacing previous import by ‘rlang::lang’ when loading ‘recipes’Warning message:\n",
      ": replacing previous import by ‘rlang::na_dbl’ when loading ‘recipes’Warning message:\n",
      ": replacing previous import by ‘rlang::names2’ when loading ‘recipes’Warning message:\n",
      ": replacing previous import by ‘rlang::quos’ when loading ‘recipes’Warning message:\n",
      ": replacing previous import by ‘rlang::sym’ when loading ‘recipes’Warning message:\n",
      ": replacing previous import by ‘rlang::syms’ when loading ‘recipes’Warning message:\n",
      ": package ‘foreach’ was built under R version 3.2.5Warning message:\n",
      ": package ‘doFuture’ was built under R version 3.2.5Loading required package: future\n",
      "Loading required package: iterators\n",
      "Warning message:\n",
      ": package ‘iterators’ was built under R version 3.2.5Loading required package: parallel\n",
      "\n",
      "Attaching package: ‘zeallot’\n",
      "\n",
      "The following objects are masked from ‘package:future’:\n",
      "\n",
      "    %->%, %<-%\n",
      "\n",
      "── Attaching packages ─────────────────────────────────────── tidyverse 1.2.1 ──\n",
      "✔ ggplot2 2.2.1     ✔ purrr   0.2.4\n",
      "✔ tibble  1.4.2     ✔ dplyr   0.7.4\n",
      "✔ tidyr   0.7.2     ✔ stringr 1.2.0\n",
      "✔ readr   1.1.1     ✔ forcats 0.2.0\n",
      "Warning message:\n",
      ": package ‘ggplot2’ was built under R version 3.2.5Warning message:\n",
      ": package ‘tidyr’ was built under R version 3.2.5Warning message:\n",
      ": package ‘readr’ was built under R version 3.2.5Warning message:\n",
      ": package ‘purrr’ was built under R version 3.2.5Warning message:\n",
      ": package ‘dplyr’ was built under R version 3.2.5Warning message:\n",
      ": package ‘stringr’ was built under R version 3.2.5Warning message:\n",
      ": package ‘forcats’ was built under R version 3.2.5── Conflicts ────────────────────────────────────────── tidyverse_conflicts() ──\n",
      "✖ purrr::accumulate() masks foreach::accumulate()\n",
      "✖ tidyr::extract()    masks magrittr::extract()\n",
      "✖ dplyr::filter()     masks stats::filter()\n",
      "✖ dplyr::lag()        masks stats::lag()\n",
      "✖ purrr::set_names()  masks magrittr::set_names()\n",
      "✖ purrr::when()       masks foreach::when()\n"
     ]
    }
   ],
   "source": [
    "library(itecv) # should be loaded first\n",
    "library(magrittr)\n",
    "library(foreach)\n",
    "library(doFuture)\n",
    "library(zeallot)\n",
    "library(tidyverse)\n",
    "\n",
    "plotsize = function (x,y) options(repr.plot.width=x, repr.plot.height=y)\n",
    "\n",
    "registerDoFuture()\n",
    "plan(cluster, workers = 2)"
   ]
  },
  {
   "cell_type": "code",
   "execution_count": 6,
   "metadata": {
    "ExecuteTime": {
     "end_time": "2018-05-07T21:45:00.428202Z",
     "start_time": "2018-05-07T21:45:00.389Z"
    }
   },
   "outputs": [],
   "source": [
    "model_specs = list(\n",
    "    gbm = list(\n",
    "        tune_grid = expand.grid(\n",
    "            n.trees = seq(1,501,40), \n",
    "            interaction.depth=3, \n",
    "            shrinkage = 0.1, \n",
    "            n.minobsinnode=3),\n",
    "        extra_args = list(\n",
    "            verbose=F, \n",
    "            bag.fraction=0.5)),\n",
    "    glmnet = list(\n",
    "        tune_grid = expand.grid(\n",
    "            alpha=c(0,0.5,1),\n",
    "            lambda=exp(seq(-5,2,0.4))),\n",
    "        extra_args = list()))\n",
    "\n",
    "metrics = list(\n",
    "    mse = bundle_mse,\n",
    "    wmse = bundle_wmse,\n",
    "    r_objective = bundle_r_objective,\n",
    "    match_mse = bundle_match_mse,\n",
    "    trans_mse = bundle_trans_mse,\n",
    "    match_mdc = bundle_match_mdc,\n",
    "    trans_mdc = bundle_trans_mdc,\n",
    "    ip_value = bundle_ip_value,\n",
    "    dml_value = bundle_dml_value,\n",
    "    gain = bundle_gain,\n",
    "#     c_benefit = bundle_c_benefit,\n",
    "    qini = bundle_qini,\n",
    "    random = bundle_random)\n",
    "\n",
    "replicates = 1:10\n",
    "DGPs = powers_DGPs() %>% list(1:16) %>% \n",
    "    pmap(function(dgp, id) {\n",
    "        dgp$id = id\n",
    "        dgp\n",
    "    })\n",
    "c(itrain, ival, itest) %<-% make_indices(100, 100, 100)"
   ]
  },
  {
   "cell_type": "code",
   "execution_count": 7,
   "metadata": {
    "ExecuteTime": {
     "end_time": "2018-05-07T21:45:01.064375Z",
     "start_time": "2018-05-07T21:45:01.043Z"
    }
   },
   "outputs": [],
   "source": [
    "run_sim = function(replicate, DGP, model_specs, metrics, itrain, ival, itest) {\n",
    "    data = create_data(DGP, length(c(itrain, ival, itest)))\n",
    "    estimates = estimate_val_test(data, itrain, model_specs)\n",
    "    val_bundle = learn_validation_auxiliaries(data, ival, model_specs, randomized=DGP$randomized)\n",
    "    val_metrics = estimate_val_metrics(estimates, val_bundle, metrics, ival)\n",
    "    test_metrics = calc_test_metrics(data, estimates, itest)\n",
    "    \n",
    "    inner_join(val_metrics, test_metrics, by=\"model\") %>%\n",
    "        mutate(replicate=replicate, dgp=DGP$id)\n",
    "}"
   ]
  },
  {
   "cell_type": "code",
   "execution_count": 18,
   "metadata": {
    "ExecuteTime": {
     "end_time": "2018-05-07T21:58:30.910694Z",
     "start_time": "2018-05-07T21:55:24.816Z"
    }
   },
   "outputs": [],
   "source": [
    "foreach(replicate = replicates, \n",
    "        .export=c(\"model_specs\", \"metrics\", \"itrain\", \"ival\", \"itest\", \"run_sim\"),\n",
    "        .combine = bind_rows,\n",
    "        .packages = (.packages())) %:%\n",
    "    foreach(DGP = DGPs, \n",
    "            .export=c(\"model_specs\", \"metrics\", \"itrain\", \"ival\", \"itest\", \"run_sim\"),\n",
    "            .combine = bind_rows,\n",
    "            .packages = (.packages()))  %dopar%  {\n",
    "        run_sim(replicate, DGP, model_specs, metrics, itrain, ival, itest) \n",
    "    } %>%\n",
    "write_csv(\"data/experimental_results.csv\")"
   ]
  },
  {
   "cell_type": "markdown",
   "metadata": {},
   "source": [
    "----"
   ]
  },
  {
   "cell_type": "markdown",
   "metadata": {},
   "source": [
    "----"
   ]
  },
  {
   "cell_type": "markdown",
   "metadata": {},
   "source": [
    "----"
   ]
  },
  {
   "cell_type": "code",
   "execution_count": 25,
   "metadata": {
    "ExecuteTime": {
     "end_time": "2018-05-07T22:01:11.568396Z",
     "start_time": "2018-05-07T22:01:11.536Z"
    }
   },
   "outputs": [],
   "source": [
    "library(gridExtra)\n",
    "plotsize(20,15)\n",
    "\n",
    "averaged_results = results %>%\n",
    "    group_by(dgp, model) %>%\n",
    "    select(-replicate) %>%\n",
    "    summarize_all(mean)"
   ]
  },
  {
   "cell_type": "code",
   "execution_count": 32,
   "metadata": {
    "ExecuteTime": {
     "end_time": "2018-05-07T22:10:12.270390Z",
     "start_time": "2018-05-07T22:10:12.247Z"
    }
   },
   "outputs": [],
   "source": [
    "test_metrics = averaged_results %>% select(dgp, model, value, tmse)\n",
    "val_metrics = averaged_results %>% select(-value, -tmse)"
   ]
  },
  {
   "cell_type": "code",
   "execution_count": 43,
   "metadata": {
    "ExecuteTime": {
     "end_time": "2018-05-07T22:22:53.228992Z",
     "start_time": "2018-05-07T22:22:53.134Z"
    },
    "scrolled": false
   },
   "outputs": [],
   "source": [
    "ttm = test_metrics %>% gather(tt_metric, tt_figure, -model, -dgp)\n",
    "vm = val_metrics %>% gather(v_metric, v_figure, -model, -dgp)\n",
    "\n",
    "plots = inner_join(ttm, vm, by=c(\"model\",\"dgp\")) %>%\n",
    "    separate(model, c(\"learner\", \"model\"), sep=\"\\\\$\") %>%\n",
    "    separate(model, c(\"method\", \"params\"), sep=\"@\") %>%\n",
    "split(.$dgp) %>% imap(function(plot_data, dgp_id) {\n",
    "    plot_data %>%\n",
    "    ggplot(aes(x=tt_figure, y=v_figure, color=method, shape=learner)) +\n",
    "    geom_point() +\n",
    "    facet_grid(v_metric~tt_metric, scales=\"free\") +\n",
    "    ggtitle(str_c('DGP: ', dgp_id))\n",
    "})\n",
    "grid.arrange(grobs=plots, nrow=1)"
   ]
  }
 ],
 "metadata": {
  "kernelspec": {
   "display_name": "R",
   "language": "R",
   "name": "ir"
  },
  "language_info": {
   "codemirror_mode": "r",
   "file_extension": ".r",
   "mimetype": "text/x-r-source",
   "name": "R",
   "pygments_lexer": "r",
   "version": "3.2.2"
  }
 },
 "nbformat": 4,
 "nbformat_minor": 2
}
