{
 "cells": [
  {
   "cell_type": "code",
   "execution_count": 2,
   "metadata": {
    "ExecuteTime": {
     "end_time": "2018-03-04T23:21:20.915952Z",
     "start_time": "2018-03-04T23:21:18.303Z"
    },
    "slideshow": {
     "slide_type": "skip"
    }
   },
   "outputs": [],
   "source": [
    "library(foreach)\n",
    "library(doParallel)\n",
    "library(Matching)\n",
    "library(plyr)\n",
    "library(tidyverse)\n",
    "library(stringr)\n",
    "library(magrittr)\n",
    "library(caret)\n",
    "library(itecv)\n",
    "# detach(\"package:plyr\", unload=TRUE)"
   ]
  },
  {
   "cell_type": "code",
   "execution_count": 3,
   "metadata": {
    "ExecuteTime": {
     "end_time": "2018-03-04T23:21:21.507044Z",
     "start_time": "2018-03-04T23:21:21.489Z"
    },
    "slideshow": {
     "slide_type": "skip"
    }
   },
   "outputs": [],
   "source": [
    "loop_test = function(setup) {\n",
    "    DGP = setup$DGP\n",
    "    n = setup$n\n",
    "    n_folds = setup$n_folds\n",
    "    training_percent = setup$training_percent\n",
    "    rep = setup$rep\n",
    "    model = setup$model\n",
    "    \n",
    "    datas = setup_data(DGP$DGP, n, training_percent, n_folds)\n",
    "    estimates = datas %$% get_estimates(data, model, cv_index, test_index) \n",
    "    errors =  estimates %$% get_errors(cv_estimates, test_estimates, datas$aux_data) \n",
    "    true_selection_error = errors$true_selection_error %>%\n",
    "        mutate(DGP=DGP$name, n_folds=n_folds, training_percent=training_percent, rep=rep)\n",
    "    \n",
    "    return(true_selection_error)\n",
    "}"
   ]
  },
  {
   "cell_type": "code",
   "execution_count": 4,
   "metadata": {
    "ExecuteTime": {
     "end_time": "2018-03-04T23:21:22.010725Z",
     "start_time": "2018-03-04T23:21:21.977Z"
    },
    "slideshow": {
     "slide_type": "skip"
    }
   },
   "outputs": [],
   "source": [
    "methods = list(\"gbm\",\n",
    "               \"enet\")\n",
    "tune_grids = list(expand.grid(n.trees=seq(1,501,50), \n",
    "                              interaction.depth=c(3), \n",
    "                              shrinkage=0.2, \n",
    "                              n.minobsinnode=3),\n",
    "                  expand.grid(fraction=0.5, \n",
    "                              lambda=exp(seq(-5,2,0.5))))\n",
    "models = list(methods, tune_grids) %>%\n",
    "    pmap(~list(method=.x, tune_grid=.y))\n",
    "\n",
    "simulation_params = list(DGP = powers_DGPs()[1:3] %>% \n",
    "                             imap(~list(name=.y, DGP=.x)),\n",
    "                         n = 100,\n",
    "                         n_folds=3,\n",
    "                         training_percent=0.5,\n",
    "                         rep = 1:3) %>%\n",
    "cross\n",
    "setups = simulation_params %>%\n",
    "    map(~c(.,\"models\"=list(models)))"
   ]
  },
  {
   "cell_type": "code",
   "execution_count": 5,
   "metadata": {
    "ExecuteTime": {
     "end_time": "2018-03-04T23:21:32.331415Z",
     "start_time": "2018-03-04T23:21:23.822Z"
    }
   },
   "outputs": [
    {
     "ename": "ERROR",
     "evalue": "Error in loop_test(setup): task 1 failed - \"`by` can't contain join column `subject`, `fold` which is missing from LHS\"\n",
     "output_type": "error",
     "traceback": [
      "Error in loop_test(setup): task 1 failed - \"`by` can't contain join column `subject`, `fold` which is missing from LHS\"\n"
     ]
    }
   ],
   "source": [
    "cl = makeCluster(4)\n",
    "registerDoParallel(cl)\n",
    " \n",
    "base <- 4\n",
    "foreach(setup = setups, \n",
    "        .combine = bind_rows,\n",
    "        .packages = (.packages()))  %dopar%  \n",
    "loop_test(setup) \n",
    "\n",
    "stopCluster(cl)"
   ]
  },
  {
   "cell_type": "code",
   "execution_count": null,
   "metadata": {},
   "outputs": [],
   "source": []
  }
 ],
 "metadata": {
  "celltoolbar": "Slideshow",
  "kernelspec": {
   "display_name": "R",
   "language": "R",
   "name": "ir"
  },
  "language_info": {
   "codemirror_mode": "r",
   "file_extension": ".r",
   "mimetype": "text/x-r-source",
   "name": "R",
   "pygments_lexer": "r",
   "version": "3.2.2"
  }
 },
 "nbformat": 4,
 "nbformat_minor": 2
}
