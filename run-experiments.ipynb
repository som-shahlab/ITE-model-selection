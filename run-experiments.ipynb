{
 "cells": [
  {
   "cell_type": "code",
   "execution_count": 6,
   "metadata": {
    "ExecuteTime": {
     "end_time": "2018-07-31T23:50:12.271767Z",
     "start_time": "2018-07-31T23:50:07.133Z"
    },
    "scrolled": true
   },
   "outputs": [
    {
     "name": "stderr",
     "output_type": "stream",
     "text": [
      "Warning message:\n",
      "“replacing previous import ‘caret::lift’ by ‘purrr::lift’ when loading ‘rlearner’”Warning message:\n",
      "“replacing previous import ‘magrittr::set_names’ by ‘purrr::set_names’ when loading ‘rlearner’”Warning message:\n",
      "“replacing previous import ‘magrittr::extract’ by ‘tidyr::extract’ when loading ‘rlearner’”\n",
      "Attaching package: ‘rlearner’\n",
      "\n",
      "The following object is masked from ‘package:itecv’:\n",
      "\n",
      "    learner_cv\n",
      "\n"
     ]
    }
   ],
   "source": [
    "library(itecv) # should be loaded first\n",
    "library(magrittr)\n",
    "library(foreach)\n",
    "library(doFuture)\n",
    "library(zeallot)\n",
    "library(tidyverse)\n",
    "library(rlearner)\n",
    "\n",
    "plotsize = function (x,y) options(repr.plot.width=x, repr.plot.height=y)\n",
    "\n",
    "registerDoFuture()\n",
    "plan(cluster, workers = 10)"
   ]
  },
  {
   "cell_type": "code",
   "execution_count": 18,
   "metadata": {
    "ExecuteTime": {
     "end_time": "2018-08-01T00:50:03.529806Z",
     "start_time": "2018-08-01T00:50:03.471Z"
    }
   },
   "outputs": [],
   "source": [
    "model_specs = list(\n",
    "    gbm = list(\n",
    "        tune_grid = expand.grid(\n",
    "            n.trees = seq(1,501,40), \n",
    "            interaction.depth=3, \n",
    "            shrinkage = 0.1, \n",
    "            n.minobsinnode=3),\n",
    "        extra_args = list(\n",
    "            verbose=F, \n",
    "            bag.fraction=0.5)),\n",
    "    glmnet = list(\n",
    "        tune_grid = expand.grid(\n",
    "            alpha=c(0,0.5,1),\n",
    "            lambda=exp(seq(-5,2,0.4))),\n",
    "        extra_args = list()))\n",
    "\n",
    "metrics = list(\n",
    "    mse = bundle_mse,\n",
    "    wmse = bundle_wmse,\n",
    "#     dr_mse = bundle_dr_mse,\n",
    "    r_objective = bundle_r_objective,\n",
    "    match_mse = bundle_match_mse,\n",
    "    trans_mse = bundle_trans_mse,\n",
    "#     match_mdc = bundle_match_mdc,\n",
    "#     trans_mdc = bundle_trans_mdc,\n",
    "    ip_value = bundle_ip_value,\n",
    "    dml_value = bundle_dml_value,\n",
    "#     gain = bundle_gain,\n",
    "#     c_benefit = bundle_c_benefit,\n",
    "#     qini = bundle_qini,\n",
    "    random = bundle_random)\n",
    "\n",
    "replicates = 1:2\n",
    "DGPs = powers_DGPs() %>% list(1:16) %>% \n",
    "    pmap(function(dgp, id) {\n",
    "        dgp$id = id\n",
    "        dgp\n",
    "    })\n",
    "c(itrain, ival, itest) %<-% make_indices(100, 100, 100)"
   ]
  },
  {
   "cell_type": "code",
   "execution_count": 23,
   "metadata": {
    "ExecuteTime": {
     "end_time": "2018-08-01T01:10:20.318900Z",
     "start_time": "2018-08-01T01:10:20.303Z"
    }
   },
   "outputs": [],
   "source": [
    "learners = list(\n",
    "     rlearner=rlearner_cv, \n",
    "     slearner=slearner_cv, \n",
    "     tlearner=tlearner_cv) "
   ]
  },
  {
   "cell_type": "code",
   "execution_count": 24,
   "metadata": {
    "ExecuteTime": {
     "end_time": "2018-08-01T01:11:36.481862Z",
     "start_time": "2018-08-01T01:11:36.464Z"
    }
   },
   "outputs": [],
   "source": [
    "run_sim = function(replicate, DGP, model_specs, metrics, itrain, ival, itest) {\n",
    "    data = create_data(DGP, length(c(itrain, ival, itest)))\n",
    "    estimates = estimate_val_test(data, itrain, model_specs)\n",
    "    val_bundle = learn_validation_auxiliaries(data, ival, model_specs, randomized=DGP$randomized)\n",
    "    val_metrics = estimate_val_metrics(estimates, val_bundle, metrics, ival)\n",
    "    learner_estimates = estimate_learner_test(data, learners, model_specs, itrain, ival, itest)\n",
    "    test_metrics = calc_test_metrics(data, bind_rows(estimates, learner_estimates), itest)\n",
    "    \n",
    "    inner_join(val_metrics, test_metrics, by=\"model\") %>%\n",
    "        mutate(replicate=replicate, dgp=DGP$id)\n",
    "}"
   ]
  },
  {
   "cell_type": "code",
   "execution_count": 25,
   "metadata": {
    "ExecuteTime": {
     "end_time": "2018-08-01T01:27:56.441059Z",
     "start_time": "2018-08-01T01:11:39.942Z"
    }
   },
   "outputs": [
    {
     "ename": "ERROR",
     "evalue": "Error in {: task 1 failed - \"could not find function \"estimate_learner_test\"\"\n",
     "output_type": "error",
     "traceback": [
      "Error in {: task 1 failed - \"could not find function \"estimate_learner_test\"\"\nTraceback:\n",
      "1. foreach(replicate = replicates, .export = c(\"model_specs\", \"metrics\", \n .     \"itrain\", \"ival\", \"itest\", \"run_sim\"), .combine = bind_rows, \n .     .packages = (.packages())) %:% foreach(DGP = DGPs, .export = c(\"model_specs\", \n .     \"metrics\", \"itrain\", \"ival\", \"itest\", \"run_sim\"), .combine = bind_rows, \n .     .packages = (.packages())) %dopar% {\n .     run_sim(replicate, DGP, model_specs, metrics, itrain, ival, \n .         itest)\n . } %>% write_csv(\"data/experimental_results_test.csv\")",
      "2. eval(lhs, parent, parent)",
      "3. eval(lhs, parent, parent)",
      "4. foreach(replicate = replicates, .export = c(\"model_specs\", \"metrics\", \n .     \"itrain\", \"ival\", \"itest\", \"run_sim\"), .combine = bind_rows, \n .     .packages = (.packages())) %:% foreach(DGP = DGPs, .export = c(\"model_specs\", \n .     \"metrics\", \"itrain\", \"ival\", \"itest\", \"run_sim\"), .combine = bind_rows, \n .     .packages = (.packages())) %dopar% {\n .     run_sim(replicate, DGP, model_specs, metrics, itrain, ival, \n .         itest)\n . }",
      "5. e$fun(obj, substitute(ex), parent.frame(), e$data)"
     ]
    }
   ],
   "source": [
    "start_time <- Sys.time()\n",
    "\n",
    "foreach(replicate = replicates, \n",
    "        .export=c(\"model_specs\", \"metrics\", \"itrain\", \"ival\", \"itest\", \"run_sim\"),\n",
    "        .combine = bind_rows,\n",
    "        .packages = (.packages())) %:%\n",
    "    foreach(DGP = DGPs, \n",
    "            .export=c(\"model_specs\", \"metrics\", \"itrain\", \"ival\", \"itest\", \"run_sim\"),\n",
    "            .combine = bind_rows,\n",
    "            .packages = (.packages()))  %dopar%  {\n",
    "        run_sim(replicate, DGP, model_specs, metrics, itrain, ival, itest) \n",
    "    } %>%\n",
    "write_csv(\"data/experimental_results_test.csv\")\n",
    "\n",
    "end_time <- Sys.time()\n",
    "end_time - start_time"
   ]
  },
  {
   "cell_type": "code",
   "execution_count": null,
   "metadata": {},
   "outputs": [],
   "source": []
  }
 ],
 "metadata": {
  "kernelspec": {
   "display_name": "R",
   "language": "R",
   "name": "ir"
  },
  "language_info": {
   "codemirror_mode": "r",
   "file_extension": ".r",
   "mimetype": "text/x-r-source",
   "name": "R",
   "pygments_lexer": "r",
   "version": "3.5.0"
  }
 },
 "nbformat": 4,
 "nbformat_minor": 2
}
