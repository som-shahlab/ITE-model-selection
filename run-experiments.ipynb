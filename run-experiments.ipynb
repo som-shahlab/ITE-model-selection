{
 "cells": [
  {
   "cell_type": "code",
   "execution_count": 2,
   "metadata": {
    "ExecuteTime": {
     "end_time": "2018-03-07T07:12:39.063759Z",
     "start_time": "2018-03-07T07:12:36.249Z"
    },
    "slideshow": {
     "slide_type": "skip"
    }
   },
   "outputs": [],
   "source": [
    "library(foreach)\n",
    "library(doParallel)\n",
    "library(Matching)\n",
    "library(plyr)\n",
    "library(tidyverse)\n",
    "library(stringr)\n",
    "library(magrittr)\n",
    "library(caret)\n",
    "library(itecv)\n",
    "# detach(\"package:plyr\", unload=TRUE)"
   ]
  },
  {
   "cell_type": "code",
   "execution_count": 3,
   "metadata": {
    "ExecuteTime": {
     "end_time": "2018-03-07T07:12:39.090702Z",
     "start_time": "2018-03-07T07:12:36.673Z"
    },
    "slideshow": {
     "slide_type": "skip"
    }
   },
   "outputs": [],
   "source": [
    "loop_test = function(setup) {\n",
    "    DGP = setup$DGP\n",
    "    n_train = setup$n_train\n",
    "    n_test = setup$n_test\n",
    "    n_folds = setup$n_folds\n",
    "    rep = setup$rep\n",
    "    models = setup$models\n",
    "    \n",
    "    datas = setup_data(DGP$DGP, n_train, n_test, n_folds)\n",
    "    estimates = datas %$% get_estimates(data, models, cv_index, test_index) \n",
    "    errors =  estimates %$% get_errors(cv_estimates, test_estimates, datas$aux_data) \n",
    "    true_selection_error = errors$true_selection_error %>%\n",
    "        mutate(DGP=DGP$name, n_train=n_train, n_test=n_test, n_folds=n_folds, rep=rep)\n",
    "    \n",
    "    return(true_selection_error)\n",
    "}"
   ]
  },
  {
   "cell_type": "code",
   "execution_count": 15,
   "metadata": {
    "ExecuteTime": {
     "end_time": "2018-03-07T15:41:29.212644Z",
     "start_time": "2018-03-07T15:41:29.163Z"
    },
    "slideshow": {
     "slide_type": "skip"
    }
   },
   "outputs": [],
   "source": [
    "models = list(\n",
    "# ranger_spec = list(method = \"ranger\",\n",
    "#                    tune_grid = expand.grid(mtry = c(3,5),\n",
    "#                                            splitrule=\"variance\",\n",
    "#                                            min.node.size=5)),\n",
    "gbm_spec = list(method = \"gbm\",\n",
    "                tune_grid = expand.grid(n.trees = seq(1,501,20), \n",
    "                                        interaction.depth=3, \n",
    "                                        shrinkage = 0.2, \n",
    "                                        n.minobsinnode=3)),\n",
    "enet_spec = list(method = \"enet\",\n",
    "                 tune_grid = expand.grid(fraction=0.5,\n",
    "                                         lambda=exp(seq(-5,2,0.2))))\n",
    "# nnet_spec = list(method = \"nnet\",\n",
    "#                  tune_grid = expand.grid(size = seq(10,30,5),\n",
    "#                                          decay = exp(seq(-7,0,1))))\n",
    ")\n",
    "\n",
    "simulation_params = list(DGP = powers_DGPs() %>% \n",
    "                             imap(~list(name=.y, DGP=.x)),\n",
    "                         n_test = 2000,\n",
    "                         n_train = 1000,\n",
    "                         n_folds = c(2,10),\n",
    "                         rep = 1:20) %>%\n",
    "cross\n",
    "setups = simulation_params %>%\n",
    "    map(~c(.,\"models\"=list(models)))"
   ]
  },
  {
   "cell_type": "code",
   "execution_count": 8,
   "metadata": {
    "ExecuteTime": {
     "end_time": "2018-03-07T07:16:12.228990Z",
     "start_time": "2018-03-07T07:16:12.170Z"
    }
   },
   "outputs": [],
   "source": [
    "# setups[[1]] %>% loop_test %>% data.frame"
   ]
  },
  {
   "cell_type": "code",
   "execution_count": 9,
   "metadata": {
    "ExecuteTime": {
     "end_time": "2018-03-07T07:16:14.075567Z",
     "start_time": "2018-03-07T07:16:14.060Z"
    }
   },
   "outputs": [],
   "source": [
    "# results = setups %>% \n",
    "#     map(~loop_test(.)) %>%\n",
    "#     bind_rows"
   ]
  },
  {
   "cell_type": "code",
   "execution_count": null,
   "metadata": {
    "ExecuteTime": {
     "start_time": "2018-03-07T15:41:31.204Z"
    }
   },
   "outputs": [],
   "source": [
    "cl = makeCluster(4)\n",
    "registerDoParallel(cl)\n",
    " \n",
    "results = foreach(setup = setups, \n",
    "        .combine = bind_rows,\n",
    "        .packages = (.packages()))  %dopar%  \n",
    "loop_test(setup) \n",
    "\n",
    "stopCluster(cl)"
   ]
  },
  {
   "cell_type": "code",
   "execution_count": null,
   "metadata": {
    "ExecuteTime": {
     "start_time": "2018-03-07T15:41:33.324Z"
    }
   },
   "outputs": [],
   "source": [
    "write_csv(results, \"data/experimental_results_2.csv\")"
   ]
  },
  {
   "cell_type": "code",
   "execution_count": null,
   "metadata": {},
   "outputs": [],
   "source": []
  }
 ],
 "metadata": {
  "celltoolbar": "Slideshow",
  "kernelspec": {
   "display_name": "R",
   "language": "R",
   "name": "ir"
  },
  "language_info": {
   "codemirror_mode": "r",
   "file_extension": ".r",
   "mimetype": "text/x-r-source",
   "name": "R",
   "pygments_lexer": "r",
   "version": "3.2.2"
  }
 },
 "nbformat": 4,
 "nbformat_minor": 2
}
