{
 "cells": [
  {
   "cell_type": "code",
   "execution_count": 1,
   "metadata": {
    "ExecuteTime": {
     "end_time": "2018-03-05T20:29:04.393683Z",
     "start_time": "2018-03-05T20:28:59.898Z"
    },
    "collapsed": true,
    "slideshow": {
     "slide_type": "skip"
    }
   },
   "outputs": [
    {
     "name": "stderr",
     "output_type": "stream",
     "text": [
      "Warning message:\n",
      ": package ‘foreach’ was built under R version 3.2.5Loading required package: iterators\n",
      "Warning message:\n",
      ": package ‘iterators’ was built under R version 3.2.5Loading required package: parallel\n",
      "Warning message:\n",
      ": package ‘Matching’ was built under R version 3.2.3Loading required package: MASS\n",
      "## \n",
      "##  Matching (Version 4.9-2, Build Date: 2015-12-25)\n",
      "##  See http://sekhon.berkeley.edu/matching for additional documentation.\n",
      "##  Please cite software as:\n",
      "##   Jasjeet S. Sekhon. 2011. ``Multivariate and Propensity Score Matching\n",
      "##   Software with Automated Balance Optimization: The Matching package for R.''\n",
      "##   Journal of Statistical Software, 42(7): 1-52. \n",
      "##\n",
      "\n",
      "Warning message:\n",
      ": package ‘plyr’ was built under R version 3.2.5Warning message:\n",
      ": package ‘tidyverse’ was built under R version 3.2.5Warning message:\n",
      ": replacing previous import by ‘tidyr::%>%’ when loading ‘broom’Warning message:\n",
      ": replacing previous import by ‘tidyr::gather’ when loading ‘broom’Warning message:\n",
      ": replacing previous import by ‘tidyr::spread’ when loading ‘broom’Loading tidyverse: ggplot2\n",
      "Loading tidyverse: tibble\n",
      "Loading tidyverse: tidyr\n",
      "Loading tidyverse: readr\n",
      "Loading tidyverse: purrr\n",
      "Loading tidyverse: dplyr\n",
      "Warning message:\n",
      ": package ‘ggplot2’ was built under R version 3.2.5Warning message:\n",
      ": package ‘tibble’ was built under R version 3.2.5Warning message:\n",
      ": package ‘tidyr’ was built under R version 3.2.5Warning message:\n",
      ": package ‘readr’ was built under R version 3.2.5Warning message:\n",
      ": package ‘purrr’ was built under R version 3.2.5Warning message:\n",
      ": package ‘dplyr’ was built under R version 3.2.5Conflicts with tidy packages ---------------------------------------------------\n",
      "accumulate(): purrr, foreach\n",
      "arrange():    dplyr, plyr\n",
      "compact():    purrr, plyr\n",
      "count():      dplyr, plyr\n",
      "failwith():   dplyr, plyr\n",
      "filter():     dplyr, stats\n",
      "id():         dplyr, plyr\n",
      "lag():        dplyr, stats\n",
      "mutate():     dplyr, plyr\n",
      "rename():     dplyr, plyr\n",
      "select():     dplyr, MASS\n",
      "summarise():  dplyr, plyr\n",
      "summarize():  dplyr, plyr\n",
      "when():       purrr, foreach\n",
      "Warning message:\n",
      ": package ‘stringr’ was built under R version 3.2.5\n",
      "Attaching package: ‘magrittr’\n",
      "\n",
      "The following object is masked from ‘package:purrr’:\n",
      "\n",
      "    set_names\n",
      "\n",
      "The following object is masked from ‘package:tidyr’:\n",
      "\n",
      "    extract\n",
      "\n",
      "Warning message:\n",
      ": package ‘caret’ was built under R version 3.2.5Loading required package: lattice\n",
      "Warning message:\n",
      ": replacing previous import by ‘plyr::ddply’ when loading ‘caret’Warning message:\n",
      ": replacing previous import by ‘rlang::!!’ when loading ‘recipes’Warning message:\n",
      ": replacing previous import by ‘rlang::expr’ when loading ‘recipes’Warning message:\n",
      ": replacing previous import by ‘rlang::f_lhs’ when loading ‘recipes’Warning message:\n",
      ": replacing previous import by ‘rlang::f_rhs’ when loading ‘recipes’Warning message:\n",
      ": replacing previous import by ‘rlang::is_empty’ when loading ‘recipes’Warning message:\n",
      ": replacing previous import by ‘rlang::lang’ when loading ‘recipes’Warning message:\n",
      ": replacing previous import by ‘rlang::na_dbl’ when loading ‘recipes’Warning message:\n",
      ": replacing previous import by ‘rlang::names2’ when loading ‘recipes’Warning message:\n",
      ": replacing previous import by ‘rlang::quos’ when loading ‘recipes’Warning message:\n",
      ": replacing previous import by ‘rlang::sym’ when loading ‘recipes’Warning message:\n",
      ": replacing previous import by ‘rlang::syms’ when loading ‘recipes’\n",
      "Attaching package: ‘caret’\n",
      "\n",
      "The following object is masked from ‘package:purrr’:\n",
      "\n",
      "    lift\n",
      "\n",
      "Warning message:\n",
      ": replacing previous import by ‘magrittr::%>%’ when loading ‘itecv’Warning message:\n",
      ": replacing previous import by ‘purrr::lift’ when loading ‘itecv’Warning message:\n",
      ": replacing previous import by ‘purrr::%>%’ when loading ‘itecv’Warning message:\n",
      ": replacing previous import by ‘purrr::set_names’ when loading ‘itecv’Warning message:\n",
      ": replacing previous import by ‘stringr::%>%’ when loading ‘itecv’Warning message:\n",
      ": replacing previous import by ‘tidyr::extract’ when loading ‘itecv’Warning message:\n",
      ": replacing previous import by ‘tidyr::%>%’ when loading ‘itecv’"
     ]
    }
   ],
   "source": [
    "library(foreach)\n",
    "library(doParallel)\n",
    "library(Matching)\n",
    "library(plyr)\n",
    "library(tidyverse)\n",
    "library(stringr)\n",
    "library(magrittr)\n",
    "library(caret)\n",
    "library(itecv)\n",
    "# detach(\"package:plyr\", unload=TRUE)"
   ]
  },
  {
   "cell_type": "code",
   "execution_count": 2,
   "metadata": {
    "ExecuteTime": {
     "end_time": "2018-03-05T20:29:04.434729Z",
     "start_time": "2018-03-05T20:28:59.900Z"
    },
    "slideshow": {
     "slide_type": "skip"
    }
   },
   "outputs": [],
   "source": [
    "loop_test = function(setup) {\n",
    "    DGP = setup$DGP\n",
    "    n_train = setup$n_train\n",
    "    n_test = setup$n_test\n",
    "    n_folds = setup$n_folds\n",
    "    training_percent = setup$training_percent\n",
    "    rep = setup$rep\n",
    "    models = setup$models\n",
    "    \n",
    "    n = n_train + n_test\n",
    "    training_percent \n",
    "    \n",
    "    datas = setup_data(DGP$DGP, n_train, n_test, n_folds)\n",
    "    estimates = datas %$% get_estimates(data, models, cv_index, test_index) \n",
    "    errors =  estimates %$% get_errors(cv_estimates, test_estimates, datas$aux_data) \n",
    "    true_selection_error = errors$true_selection_error %>%\n",
    "        mutate(DGP=DGP$name, n_train=n_train, n_test=n_test, n_folds=n_folds, rep=rep)\n",
    "    \n",
    "    return(true_selection_error)\n",
    "}"
   ]
  },
  {
   "cell_type": "code",
   "execution_count": 3,
   "metadata": {
    "ExecuteTime": {
     "end_time": "2018-03-05T20:29:04.480690Z",
     "start_time": "2018-03-05T20:28:59.903Z"
    },
    "slideshow": {
     "slide_type": "skip"
    }
   },
   "outputs": [],
   "source": [
    "methods = list(\"ranger\",\n",
    "               \"enet\")\n",
    "tune_grids = list(expand.grid(mtry = c(3,5,7),\n",
    "                              splitrule=\"variance\",\n",
    "                              min.node.size=1),\n",
    "                  expand.grid(fraction=0.5, \n",
    "                              lambda=exp(seq(-5,2,0.5))))\n",
    "models = list(methods, tune_grids) %>%\n",
    "    pmap(~list(method=.x, tune_grid=.y))\n",
    "\n",
    "simulation_params = list(DGP = powers_DGPs() %>% \n",
    "                             imap(~list(name=.y, DGP=.x)),\n",
    "                         n_test = 2000,\n",
    "                         n_train = 1000,\n",
    "                         n_folds = c(2,5,10),\n",
    "                         rep = 2:) %>%\n",
    "cross\n",
    "setups = simulation_params %>%\n",
    "    map(~c(.,\"models\"=list(models)))"
   ]
  },
  {
   "cell_type": "code",
   "execution_count": 4,
   "metadata": {
    "ExecuteTime": {
     "end_time": "2018-03-05T20:29:04.499306Z",
     "start_time": "2018-03-05T20:28:59.906Z"
    }
   },
   "outputs": [],
   "source": [
    "# results = setups %>% \n",
    "#     map(~loop_test(.)) %>%\n",
    "#     bind_rows"
   ]
  },
  {
   "cell_type": "code",
   "execution_count": 5,
   "metadata": {
    "ExecuteTime": {
     "end_time": "2018-03-05T20:40:48.337237Z",
     "start_time": "2018-03-05T20:28:59.910Z"
    }
   },
   "outputs": [],
   "source": [
    "cl = makeCluster(4)\n",
    "registerDoParallel(cl)\n",
    " \n",
    "results = foreach(setup = setups, \n",
    "        .combine = bind_rows,\n",
    "        .packages = (.packages()))  %dopar%  \n",
    "loop_test(setup) \n",
    "\n",
    "stopCluster(cl)"
   ]
  },
  {
   "cell_type": "code",
   "execution_count": 6,
   "metadata": {
    "ExecuteTime": {
     "end_time": "2018-03-05T20:40:48.379276Z",
     "start_time": "2018-03-05T20:28:59.912Z"
    }
   },
   "outputs": [],
   "source": [
    "write_csv(results, \"data/experimental_results.csv\")"
   ]
  },
  {
   "cell_type": "code",
   "execution_count": null,
   "metadata": {},
   "outputs": [],
   "source": []
  }
 ],
 "metadata": {
  "celltoolbar": "Slideshow",
  "kernelspec": {
   "display_name": "R",
   "language": "R",
   "name": "ir"
  },
  "language_info": {
   "codemirror_mode": "r",
   "file_extension": ".r",
   "mimetype": "text/x-r-source",
   "name": "R",
   "pygments_lexer": "r",
   "version": "3.2.2"
  }
 },
 "nbformat": 4,
 "nbformat_minor": 2
}
