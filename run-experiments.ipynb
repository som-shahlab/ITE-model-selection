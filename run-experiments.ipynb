{
 "cells": [
  {
   "cell_type": "code",
   "execution_count": 1,
   "metadata": {
    "ExecuteTime": {
     "end_time": "2018-08-02T21:25:57.126504Z",
     "start_time": "2018-08-02T21:25:49.077Z"
    },
    "scrolled": true
   },
   "outputs": [
    {
     "name": "stderr",
     "output_type": "stream",
     "text": [
      "Loading required package: future\n",
      "Loading required package: iterators\n",
      "Loading required package: parallel\n",
      "\n",
      "Attaching package: ‘zeallot’\n",
      "\n",
      "The following objects are masked from ‘package:future’:\n",
      "\n",
      "    %->%, %<-%\n",
      "\n",
      "── Attaching packages ─────────────────────────────────────── tidyverse 1.2.1 ──\n",
      "✔ ggplot2 2.2.1     ✔ purrr   0.2.5\n",
      "✔ tibble  1.4.2     ✔ dplyr   0.7.6\n",
      "✔ tidyr   0.8.1     ✔ stringr 1.3.1\n",
      "✔ readr   1.1.1     ✔ forcats 0.3.0\n",
      "Warning message:\n",
      "“package ‘dplyr’ was built under R version 3.5.1”── Conflicts ────────────────────────────────────────── tidyverse_conflicts() ──\n",
      "✖ purrr::accumulate() masks foreach::accumulate()\n",
      "✖ tidyr::extract()    masks magrittr::extract()\n",
      "✖ dplyr::filter()     masks stats::filter()\n",
      "✖ dplyr::lag()        masks stats::lag()\n",
      "✖ purrr::set_names()  masks magrittr::set_names()\n",
      "✖ purrr::when()       masks foreach::when()\n",
      "Warning message:\n",
      "“replacing previous import ‘caret::lift’ by ‘purrr::lift’ when loading ‘rlearner’”Warning message:\n",
      "“replacing previous import ‘magrittr::set_names’ by ‘purrr::set_names’ when loading ‘rlearner’”Warning message:\n",
      "“replacing previous import ‘magrittr::extract’ by ‘tidyr::extract’ when loading ‘rlearner’”\n",
      "Attaching package: ‘rlearner’\n",
      "\n",
      "The following object is masked from ‘package:itecv’:\n",
      "\n",
      "    learner_cv\n",
      "\n"
     ]
    }
   ],
   "source": [
    "library(itecv) # should be loaded first\n",
    "library(magrittr)\n",
    "library(foreach)\n",
    "library(doFuture)\n",
    "library(zeallot)\n",
    "library(tidyverse)\n",
    "library(rlearner)\n",
    "\n",
    "plotsize = function (x,y) options(repr.plot.width=x, repr.plot.height=y)\n",
    "\n",
    "registerDoFuture()\n",
    "plan(cluster, workers = 4)"
   ]
  },
  {
   "cell_type": "code",
   "execution_count": 2,
   "metadata": {
    "ExecuteTime": {
     "end_time": "2018-08-02T21:25:57.209484Z",
     "start_time": "2018-08-02T21:25:50.138Z"
    }
   },
   "outputs": [],
   "source": [
    "model_specs = list(\n",
    "    gbm = list(\n",
    "        tune_grid = expand.grid(\n",
    "            n.trees = seq(1,501,40), \n",
    "            interaction.depth=3, \n",
    "            shrinkage = 0.1, \n",
    "            n.minobsinnode=3),\n",
    "        extra_args = list(\n",
    "            verbose=F, \n",
    "            bag.fraction=0.5)),\n",
    "    glmnet = list(\n",
    "        tune_grid = expand.grid(\n",
    "            alpha=c(0,0.5,1),\n",
    "            lambda=exp(seq(-5,2,0.4))),\n",
    "        extra_args = list()))\n",
    "\n",
    "metrics = list(\n",
    "    mse = bundle_mse,\n",
    "    wmse = bundle_wmse,\n",
    "#     dr_mse = bundle_dr_mse,\n",
    "    r_objective = bundle_r_objective,\n",
    "    match_mse = bundle_match_mse,\n",
    "    trans_mse = bundle_trans_mse,\n",
    "#     match_mdc = bundle_match_mdc,\n",
    "#     trans_mdc = bundle_trans_mdc,\n",
    "    ip_value = bundle_ip_value,\n",
    "    dml_value = bundle_dml_value,\n",
    "#     gain = bundle_gain,\n",
    "#     c_benefit = bundle_c_benefit,\n",
    "#     qini = bundle_qini,\n",
    "    random = bundle_random)\n",
    "\n",
    "replicates = 1:2\n",
    "DGPs = powers_DGPs()[1:2] %>% list(1:2) %>% \n",
    "    pmap(function(dgp, id) {\n",
    "        dgp$id = id\n",
    "        dgp\n",
    "    })\n",
    "\n",
    "c(itrain, ival, itest) %<-% make_indices(150, 50, 100)\n",
    "icv = cv_indices(itrain, ival, 5)"
   ]
  },
  {
   "cell_type": "code",
   "execution_count": 12,
   "metadata": {
    "ExecuteTime": {
     "end_time": "2018-08-02T21:27:16.756621Z",
     "start_time": "2018-08-02T21:27:16.734Z"
    }
   },
   "outputs": [
    {
     "data": {
      "text/html": [
       "<ol class=list-inline>\n",
       "\t<li>351</li>\n",
       "\t<li>350</li>\n",
       "</ol>\n"
      ],
      "text/latex": [
       "\\begin{enumerate*}\n",
       "\\item 351\n",
       "\\item 350\n",
       "\\end{enumerate*}\n"
      ],
      "text/markdown": [
       "1. 351\n",
       "2. 350\n",
       "\n",
       "\n"
      ],
      "text/plain": [
       "[1] 351 350"
      ]
     },
     "metadata": {},
     "output_type": "display_data"
    }
   ],
   "source": [
    "itest"
   ]
  },
  {
   "cell_type": "code",
   "execution_count": 7,
   "metadata": {
    "ExecuteTime": {
     "end_time": "2018-08-02T20:45:02.926772Z",
     "start_time": "2018-08-02T20:45:02.823Z"
    }
   },
   "outputs": [
    {
     "name": "stderr",
     "output_type": "stream",
     "text": [
      "Loading required package: broom\n",
      "\n",
      "Attaching package: ‘rsample’\n",
      "\n",
      "The following object is masked from ‘package:tidyr’:\n",
      "\n",
      "    fill\n",
      "\n"
     ]
    }
   ],
   "source": [
    "library(rsample)"
   ]
  },
  {
   "cell_type": "code",
   "execution_count": 39,
   "metadata": {
    "ExecuteTime": {
     "end_time": "2018-08-02T21:06:30.943046Z",
     "start_time": "2018-08-02T21:06:30.921Z"
    }
   },
   "outputs": [],
   "source": [
    "train_total = c(itrain, ival)\n",
    "n_train = length(train_total) \n",
    "n_folds = 5"
   ]
  },
  {
   "cell_type": "code",
   "execution_count": 42,
   "metadata": {
    "ExecuteTime": {
     "end_time": "2018-08-02T21:06:42.632139Z",
     "start_time": "2018-08-02T21:06:42.604Z"
    }
   },
   "outputs": [
    {
     "data": {
      "text/html": [
       "<dl>\n",
       "\t<dt>$`FALSE`</dt>\n",
       "\t\t<dd>40</dd>\n",
       "\t<dt>$`TRUE`</dt>\n",
       "\t\t<dd>160</dd>\n",
       "</dl>\n"
      ],
      "text/latex": [
       "\\begin{description}\n",
       "\\item[\\$`FALSE`] 40\n",
       "\\item[\\$`TRUE`] 160\n",
       "\\end{description}\n"
      ],
      "text/markdown": [
       "$`FALSE`\n",
       ":   40\n",
       "$`TRUE`\n",
       ":   160\n",
       "\n",
       "\n"
      ],
      "text/plain": [
       "$`FALSE`\n",
       "[1] 40\n",
       "\n",
       "$`TRUE`\n",
       "[1] 160\n"
      ]
     },
     "metadata": {},
     "output_type": "display_data"
    }
   ],
   "source": [
    "sample(train_total) %>% split(1:n_train>n_train/n_folds) %>% map(length)"
   ]
  },
  {
   "cell_type": "code",
   "execution_count": null,
   "metadata": {},
   "outputs": [],
   "source": []
  },
  {
   "cell_type": "code",
   "execution_count": 8,
   "metadata": {
    "ExecuteTime": {
     "end_time": "2018-08-02T20:45:34.061499Z",
     "start_time": "2018-08-02T20:45:34.035Z"
    }
   },
   "outputs": [],
   "source": [
    "DGP = DGPs[[1]]\n",
    "data = create_data(DGP, length(c(itrain, ival, itest)))"
   ]
  },
  {
   "cell_type": "code",
   "execution_count": 3,
   "metadata": {
    "ExecuteTime": {
     "end_time": "2018-08-02T20:35:11.233944Z",
     "start_time": "2018-08-02T20:35:05.975Z"
    }
   },
   "outputs": [],
   "source": [
    "learners = list(\n",
    "     rlearner=rlearner_cv, \n",
    "     slearner=slearner_cv, \n",
    "     tlearner=tlearner_cv) "
   ]
  },
  {
   "cell_type": "code",
   "execution_count": 4,
   "metadata": {
    "ExecuteTime": {
     "end_time": "2018-08-02T20:35:11.257102Z",
     "start_time": "2018-08-02T20:35:05.983Z"
    }
   },
   "outputs": [],
   "source": [
    "run_sim = function(replicate, DGP, model_specs, learners, metrics, itrain, ival, itest) {\n",
    "    data = create_data(DGP, length(c(itrain, ival, itest)))\n",
    "    estimates = estimate_val_test(data, itrain, model_specs)\n",
    "    val_bundle = learn_validation_auxiliaries(data, ival, model_specs, randomized=DGP$randomized)\n",
    "    val_metrics = estimate_val_metrics(estimates, val_bundle, metrics, ival)\n",
    "    test_metrics = calc_test_metrics(data, estimates, itest)\n",
    "    \n",
    "    learner_estimates = estimate_learner_test(data, learners, model_specs, itrain, ival, itest)\n",
    "    \n",
    "    learner_result = calc_test_metrics(data, learner_estimates, itest) %>%\n",
    "        mutate(replicate=replicate, dgp=DGP$id)\n",
    "    \n",
    "    selection_result = inner_join(val_metrics, test_metrics, by=\"model\") %>%\n",
    "        mutate(replicate=replicate, dgp=DGP$id)\n",
    "    \n",
    "    list(selection_result, learner_result)\n",
    "}"
   ]
  },
  {
   "cell_type": "code",
   "execution_count": 5,
   "metadata": {
    "ExecuteTime": {
     "end_time": "2018-08-02T20:37:46.872190Z",
     "start_time": "2018-08-02T20:35:05.989Z"
    }
   },
   "outputs": [
    {
     "data": {
      "text/plain": [
       "Time difference of 2.593124 mins"
      ]
     },
     "metadata": {},
     "output_type": "display_data"
    }
   ],
   "source": [
    "start_time <- Sys.time()\n",
    "\n",
    "struct = foreach(replicate = replicates, \n",
    "        .combine = c,\n",
    "        .export=c(\"model_specs\", \"learners\", \"metrics\", \"itrain\", \"ival\", \"itest\", \"run_sim\"),\n",
    "        .packages = (.packages())) %:%\n",
    "    foreach(DGP = DGPs, \n",
    "#             .combine = list,\n",
    "            .export=c(\"model_specs\", \"learners\", \"metrics\", \"itrain\", \"ival\", \"itest\", \"run_sim\"),\n",
    "            .packages = (.packages()))  %dopar%  {\n",
    "        run_sim(replicate, DGP, model_specs, learners, metrics, itrain, ival, itest) \n",
    "    } %>% transpose() %>%\n",
    "map(bind_rows)\n",
    "struct[[1]] %>% write_csv(\"data/experimental_results_selection.csv\")\n",
    "struct[[2]] %>% write_csv(\"data/experimental_results_learner.csv\")\n",
    "\n",
    "end_time <- Sys.time()\n",
    "end_time - start_time"
   ]
  },
  {
   "cell_type": "code",
   "execution_count": null,
   "metadata": {},
   "outputs": [],
   "source": []
  }
 ],
 "metadata": {
  "kernelspec": {
   "display_name": "R",
   "language": "R",
   "name": "ir"
  },
  "language_info": {
   "codemirror_mode": "r",
   "file_extension": ".r",
   "mimetype": "text/x-r-source",
   "name": "R",
   "pygments_lexer": "r",
   "version": "3.5.0"
  }
 },
 "nbformat": 4,
 "nbformat_minor": 2
}
