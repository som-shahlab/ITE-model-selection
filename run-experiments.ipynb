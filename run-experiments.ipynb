{
 "cells": [
  {
   "cell_type": "code",
   "execution_count": 1,
   "metadata": {},
   "outputs": [],
   "source": [
    "# library(devtools)\n",
    "# document()\n",
    "# setwd(\"../\")\n",
    "# install(\"itecv\")\n",
    "# library(itecv)\n",
    "# setwd(\"itecv\")"
   ]
  },
  {
   "cell_type": "code",
   "execution_count": 2,
   "metadata": {
    "ExecuteTime": {
     "end_time": "2018-03-07T07:12:39.063759Z",
     "start_time": "2018-03-07T07:12:36.249Z"
    },
    "slideshow": {
     "slide_type": "skip"
    }
   },
   "outputs": [
    {
     "name": "stderr",
     "output_type": "stream",
     "text": [
      "Loading required package: iterators\n",
      "Loading required package: parallel\n",
      "Loading required package: MASS\n",
      "## \n",
      "##  Matching (Version 4.9-2, Build Date: 2015-12-25)\n",
      "##  See http://sekhon.berkeley.edu/matching for additional documentation.\n",
      "##  Please cite software as:\n",
      "##   Jasjeet S. Sekhon. 2011. ``Multivariate and Propensity Score Matching\n",
      "##   Software with Automated Balance Optimization: The Matching package for R.''\n",
      "##   Journal of Statistical Software, 42(7): 1-52. \n",
      "##\n",
      "\n",
      "── Attaching packages ─────────────────────────────────────── tidyverse 1.2.1 ──\n",
      "✔ ggplot2 2.2.1     ✔ purrr   0.2.4\n",
      "✔ tibble  1.4.2     ✔ dplyr   0.7.4\n",
      "✔ tidyr   0.8.0     ✔ stringr 1.3.0\n",
      "✔ readr   1.1.1     ✔ forcats 0.3.0\n",
      "── Conflicts ────────────────────────────────────────── tidyverse_conflicts() ──\n",
      "✖ purrr::accumulate() masks foreach::accumulate()\n",
      "✖ dplyr::arrange()    masks plyr::arrange()\n",
      "✖ purrr::compact()    masks plyr::compact()\n",
      "✖ dplyr::count()      masks plyr::count()\n",
      "✖ dplyr::failwith()   masks plyr::failwith()\n",
      "✖ dplyr::filter()     masks stats::filter()\n",
      "✖ dplyr::id()         masks plyr::id()\n",
      "✖ dplyr::lag()        masks stats::lag()\n",
      "✖ dplyr::mutate()     masks plyr::mutate()\n",
      "✖ dplyr::rename()     masks plyr::rename()\n",
      "✖ dplyr::select()     masks MASS::select()\n",
      "✖ dplyr::summarise()  masks plyr::summarise()\n",
      "✖ dplyr::summarize()  masks plyr::summarize()\n",
      "✖ purrr::when()       masks foreach::when()\n",
      "Warning message:\n",
      "“package ‘magrittr’ was built under R version 3.4.3”\n",
      "Attaching package: ‘magrittr’\n",
      "\n",
      "The following object is masked from ‘package:purrr’:\n",
      "\n",
      "    set_names\n",
      "\n",
      "The following object is masked from ‘package:tidyr’:\n",
      "\n",
      "    extract\n",
      "\n",
      "Loading required package: lattice\n",
      "\n",
      "Attaching package: ‘caret’\n",
      "\n",
      "The following object is masked from ‘package:purrr’:\n",
      "\n",
      "    lift\n",
      "\n",
      "Warning message:\n",
      "“replacing previous import ‘caret::lift’ by ‘purrr::lift’ when loading ‘itecv’”Warning message:\n",
      "“replacing previous import ‘magrittr::set_names’ by ‘purrr::set_names’ when loading ‘itecv’”Warning message:\n",
      "“replacing previous import ‘magrittr::extract’ by ‘tidyr::extract’ when loading ‘itecv’”"
     ]
    }
   ],
   "source": [
    "library(foreach)\n",
    "library(doParallel)\n",
    "library(Matching)\n",
    "library(plyr)\n",
    "library(tidyverse)\n",
    "library(stringr)\n",
    "library(magrittr)\n",
    "library(caret)\n",
    "library(itecv)\n",
    "# detach(\"package:plyr\", unload=TRUE)"
   ]
  },
  {
   "cell_type": "code",
   "execution_count": 3,
   "metadata": {
    "ExecuteTime": {
     "end_time": "2018-03-07T07:12:39.090702Z",
     "start_time": "2018-03-07T07:12:36.673Z"
    },
    "slideshow": {
     "slide_type": "skip"
    }
   },
   "outputs": [],
   "source": [
    "loop_test = function(setup) {\n",
    "    DGP = setup$DGP\n",
    "    n_train = setup$n_train\n",
    "    n_test = setup$n_test\n",
    "    n_folds = setup$n_folds\n",
    "    rep = setup$rep\n",
    "    models = setup$models\n",
    "    \n",
    "    datas = setup_data(DGP$DGP, n_train, n_test, n_folds)\n",
    "    estimates = datas %$% get_estimates(data, models, cv_index, test_index) \n",
    "    errors =  estimates %$% get_errors(cv_estimates, test_estimates, datas$aux_data) \n",
    "    true_selection_error = errors$true_selection_error %>%\n",
    "        mutate(DGP=DGP$name, n_train=n_train, n_test=n_test, n_folds=n_folds, rep=rep)\n",
    "    \n",
    "    return(true_selection_error)\n",
    "}"
   ]
  },
  {
   "cell_type": "code",
   "execution_count": 4,
   "metadata": {
    "ExecuteTime": {
     "end_time": "2018-03-07T15:41:29.212644Z",
     "start_time": "2018-03-07T15:41:29.163Z"
    },
    "slideshow": {
     "slide_type": "skip"
    }
   },
   "outputs": [],
   "source": [
    "models = list(\n",
    "# ranger_spec = list(method = \"ranger\",\n",
    "#                    tune_grid = expand.grid(mtry = c(3,5),\n",
    "#                                            splitrule=\"variance\",\n",
    "#                                            min.node.size=5)),\n",
    "gbm_spec = list(method = \"gbm\",\n",
    "                tune_grid = expand.grid(n.trees = seq(1,501,20), \n",
    "                                        interaction.depth=3, \n",
    "                                        shrinkage = 0.2, \n",
    "                                        n.minobsinnode=3)),\n",
    "enet_spec = list(method = \"enet\",\n",
    "                 tune_grid = expand.grid(fraction=0.5,\n",
    "                                         lambda=exp(seq(-5,2,0.2))))\n",
    "# nnet_spec = list(method = \"nnet\",\n",
    "#                  tune_grid = expand.grid(size = seq(10,30,5),\n",
    "#                                          decay = exp(seq(-7,0,1))))\n",
    ")\n",
    "\n",
    "simulation_params = list(DGP = powers_DGPs() %>% \n",
    "                             imap(~list(name=.y, DGP=.x)),\n",
    "                         n_test = 2000,\n",
    "                         n_train = 1000,\n",
    "                         n_folds = c(2,5,10),\n",
    "                         rep = 26:50) %>%\n",
    "cross\n",
    "setups = simulation_params %>%\n",
    "    map(~c(.,\"models\"=list(models)))"
   ]
  },
  {
   "cell_type": "code",
   "execution_count": 5,
   "metadata": {
    "ExecuteTime": {
     "end_time": "2018-03-07T07:16:12.228990Z",
     "start_time": "2018-03-07T07:16:12.170Z"
    }
   },
   "outputs": [],
   "source": [
    "# derp = setups[[1]] %>% loop_test %>% data.frame"
   ]
  },
  {
   "cell_type": "code",
   "execution_count": 6,
   "metadata": {
    "ExecuteTime": {
     "end_time": "2018-03-07T07:16:14.075567Z",
     "start_time": "2018-03-07T07:16:14.060Z"
    }
   },
   "outputs": [],
   "source": [
    "# results = setups %>% \n",
    "#     map(~loop_test(.)) %>%\n",
    "#     bind_rows"
   ]
  },
  {
   "cell_type": "code",
   "execution_count": 7,
   "metadata": {
    "ExecuteTime": {
     "start_time": "2018-03-07T15:41:31.204Z"
    }
   },
   "outputs": [],
   "source": [
    "cl = makeCluster(8)\n",
    "registerDoParallel(cl)\n",
    " \n",
    "results = foreach(setup = setups, \n",
    "        .combine = bind_rows,\n",
    "        .packages = (.packages()))  %dopar%  \n",
    "loop_test(setup) \n",
    "\n",
    "write_csv(results, \"data/experimental_results_2.csv\")"
   ]
  },
  {
   "cell_type": "code",
   "execution_count": 8,
   "metadata": {},
   "outputs": [],
   "source": [
    "stopCluster(cl)"
   ]
  },
  {
   "cell_type": "code",
   "execution_count": null,
   "metadata": {},
   "outputs": [],
   "source": []
  }
 ],
 "metadata": {
  "celltoolbar": "Slideshow",
  "kernelspec": {
   "display_name": "R",
   "language": "R",
   "name": "ir"
  },
  "language_info": {
   "codemirror_mode": "r",
   "file_extension": ".r",
   "mimetype": "text/x-r-source",
   "name": "R",
   "pygments_lexer": "r",
   "version": "3.4.1"
  }
 },
 "nbformat": 4,
 "nbformat_minor": 2
}
